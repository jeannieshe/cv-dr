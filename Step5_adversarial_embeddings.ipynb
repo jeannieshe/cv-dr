{
 "cells": [
  {
   "cell_type": "markdown",
   "id": "6e33ad2f-15e0-4e58-8d6a-ffe4715e906f",
   "metadata": {},
   "source": [
    "# import statements and load data"
   ]
  },
  {
   "cell_type": "code",
   "execution_count": 1,
   "id": "e3a2ba63-e7dc-45ec-b355-0ec159e4b398",
   "metadata": {},
   "outputs": [],
   "source": [
    "import pandas as pd\n",
    "import numpy as np\n",
    "import seaborn as sns\n",
    "import matplotlib.pyplot as plt\n",
    "import pickle\n",
    "\n",
    "import torch\n",
    "from torchvision import models, datasets, transforms\n",
    "from torch.utils.data import DataLoader, Dataset, Subset\n",
    "import torch.nn as nn\n",
    "import torch.nn.functional as F\n",
    "import torch.optim as optim\n",
    "from PIL import Image\n",
    "\n",
    "from sklearn.metrics import confusion_matrix, classification_report, roc_auc_score, accuracy_score, ConfusionMatrixDisplay\n",
    "from sklearn.preprocessing import StandardScaler\n",
    "from sklearn.model_selection import StratifiedShuffleSplit, StratifiedKFold, train_test_split"
   ]
  },
  {
   "cell_type": "code",
   "execution_count": 2,
   "id": "c9fb9595-b79d-4e09-9c26-eed6c6a0d30b",
   "metadata": {},
   "outputs": [
    {
     "name": "stdout",
     "output_type": "stream",
     "text": [
      "Using cuda device.\n"
     ]
    }
   ],
   "source": [
    "image_dir = 'adversarial'\n",
    "device = 'cuda' if torch.cuda.is_available() else 'cpu'\n",
    "print(f'Using {device} device.')\n",
    "\n",
    "torch.manual_seed(42)\n",
    "np.random.seed(42)"
   ]
  },
  {
   "cell_type": "code",
   "execution_count": 3,
   "id": "58d848a2-cd3c-4aa2-a43b-660ee8addbc5",
   "metadata": {},
   "outputs": [
    {
     "data": {
      "text/html": [
       "<div>\n",
       "<style scoped>\n",
       "    .dataframe tbody tr th:only-of-type {\n",
       "        vertical-align: middle;\n",
       "    }\n",
       "\n",
       "    .dataframe tbody tr th {\n",
       "        vertical-align: top;\n",
       "    }\n",
       "\n",
       "    .dataframe thead th {\n",
       "        text-align: right;\n",
       "    }\n",
       "</style>\n",
       "<table border=\"1\" class=\"dataframe\">\n",
       "  <thead>\n",
       "    <tr style=\"text-align: right;\">\n",
       "      <th></th>\n",
       "      <th>patient</th>\n",
       "      <th>dm_time</th>\n",
       "      <th>age</th>\n",
       "      <th>educational_level</th>\n",
       "      <th>sex</th>\n",
       "    </tr>\n",
       "  </thead>\n",
       "  <tbody>\n",
       "    <tr>\n",
       "      <th>0</th>\n",
       "      <td>10000</td>\n",
       "      <td>15.0</td>\n",
       "      <td>63.0</td>\n",
       "      <td>4.0</td>\n",
       "      <td>0.0</td>\n",
       "    </tr>\n",
       "    <tr>\n",
       "      <th>1</th>\n",
       "      <td>10001</td>\n",
       "      <td>15.0</td>\n",
       "      <td>63.0</td>\n",
       "      <td>4.0</td>\n",
       "      <td>0.0</td>\n",
       "    </tr>\n",
       "    <tr>\n",
       "      <th>2</th>\n",
       "      <td>10002</td>\n",
       "      <td>15.0</td>\n",
       "      <td>63.0</td>\n",
       "      <td>4.0</td>\n",
       "      <td>0.0</td>\n",
       "    </tr>\n",
       "    <tr>\n",
       "      <th>3</th>\n",
       "      <td>10003</td>\n",
       "      <td>15.0</td>\n",
       "      <td>63.0</td>\n",
       "      <td>4.0</td>\n",
       "      <td>0.0</td>\n",
       "    </tr>\n",
       "    <tr>\n",
       "      <th>4</th>\n",
       "      <td>10004</td>\n",
       "      <td>13.0</td>\n",
       "      <td>64.0</td>\n",
       "      <td>2.0</td>\n",
       "      <td>0.0</td>\n",
       "    </tr>\n",
       "  </tbody>\n",
       "</table>\n",
       "</div>"
      ],
      "text/plain": [
       "   patient  dm_time   age  educational_level  sex\n",
       "0    10000     15.0  63.0                4.0  0.0\n",
       "1    10001     15.0  63.0                4.0  0.0\n",
       "2    10002     15.0  63.0                4.0  0.0\n",
       "3    10003     15.0  63.0                4.0  0.0\n",
       "4    10004     13.0  64.0                2.0  0.0"
      ]
     },
     "execution_count": 3,
     "metadata": {},
     "output_type": "execute_result"
    }
   ],
   "source": [
    "labels = pd.read_csv('adversarial_features.csv')\n",
    "# labels = labels[['patient','dm_time', 'age', 'educational_level', 'sex']]\n",
    "# labels = labels.set_index('patient')\n",
    "labels.head()"
   ]
  },
  {
   "cell_type": "code",
   "execution_count": 4,
   "id": "6605c5f5-3a77-4fd1-9cbe-4d73e6f0b6c7",
   "metadata": {},
   "outputs": [],
   "source": [
    "# scale the tabular quantitative features only\n",
    "scaler = StandardScaler()\n",
    "scaled = scaler.fit_transform(labels[['dm_time', 'age']])\n",
    "labels[['dm_time', 'age']] = scaled"
   ]
  },
  {
   "cell_type": "code",
   "execution_count": 5,
   "id": "127eba45-6715-4905-a046-8be6962c64ed",
   "metadata": {},
   "outputs": [],
   "source": [
    "# Preprocess the data to be the same as the ImageNet ones\n",
    "transform = transforms.Compose([\n",
    "    transforms.Resize((224, 224)),   # Resize directly because images are square\n",
    "    transforms.ToTensor(),\n",
    "    transforms.Normalize(\n",
    "        mean=[0.485, 0.456, 0.406],  # ImageNet mean\n",
    "        std=[0.229, 0.224, 0.225]    # ImageNet std\n",
    "    )\n",
    "])\n",
    "\n",
    "# Load the dataset using ImageFolder\n",
    "image_dataset = datasets.ImageFolder(root=image_dir, transform=transform)"
   ]
  },
  {
   "cell_type": "code",
   "execution_count": 6,
   "id": "97094c97-9df2-4e04-a2b6-2e306453d1d9",
   "metadata": {},
   "outputs": [],
   "source": [
    "labels.set_index('patient', inplace=True)"
   ]
  },
  {
   "cell_type": "code",
   "execution_count": 7,
   "id": "9d983cec-41db-450a-ab96-c55d4717592f",
   "metadata": {},
   "outputs": [
    {
     "data": {
      "text/html": [
       "<div>\n",
       "<style scoped>\n",
       "    .dataframe tbody tr th:only-of-type {\n",
       "        vertical-align: middle;\n",
       "    }\n",
       "\n",
       "    .dataframe tbody tr th {\n",
       "        vertical-align: top;\n",
       "    }\n",
       "\n",
       "    .dataframe thead th {\n",
       "        text-align: right;\n",
       "    }\n",
       "</style>\n",
       "<table border=\"1\" class=\"dataframe\">\n",
       "  <thead>\n",
       "    <tr style=\"text-align: right;\">\n",
       "      <th></th>\n",
       "      <th>dm_time</th>\n",
       "      <th>age</th>\n",
       "      <th>educational_level</th>\n",
       "      <th>sex</th>\n",
       "    </tr>\n",
       "    <tr>\n",
       "      <th>patient</th>\n",
       "      <th></th>\n",
       "      <th></th>\n",
       "      <th></th>\n",
       "      <th></th>\n",
       "    </tr>\n",
       "  </thead>\n",
       "  <tbody>\n",
       "    <tr>\n",
       "      <th>10000</th>\n",
       "      <td>0.133419</td>\n",
       "      <td>0.167065</td>\n",
       "      <td>4.0</td>\n",
       "      <td>0.0</td>\n",
       "    </tr>\n",
       "    <tr>\n",
       "      <th>10001</th>\n",
       "      <td>0.133419</td>\n",
       "      <td>0.167065</td>\n",
       "      <td>4.0</td>\n",
       "      <td>0.0</td>\n",
       "    </tr>\n",
       "    <tr>\n",
       "      <th>10002</th>\n",
       "      <td>0.133419</td>\n",
       "      <td>0.167065</td>\n",
       "      <td>4.0</td>\n",
       "      <td>0.0</td>\n",
       "    </tr>\n",
       "    <tr>\n",
       "      <th>10003</th>\n",
       "      <td>0.133419</td>\n",
       "      <td>0.167065</td>\n",
       "      <td>4.0</td>\n",
       "      <td>0.0</td>\n",
       "    </tr>\n",
       "    <tr>\n",
       "      <th>10004</th>\n",
       "      <td>-0.073432</td>\n",
       "      <td>0.261988</td>\n",
       "      <td>2.0</td>\n",
       "      <td>0.0</td>\n",
       "    </tr>\n",
       "  </tbody>\n",
       "</table>\n",
       "</div>"
      ],
      "text/plain": [
       "          dm_time       age  educational_level  sex\n",
       "patient                                            \n",
       "10000    0.133419  0.167065                4.0  0.0\n",
       "10001    0.133419  0.167065                4.0  0.0\n",
       "10002    0.133419  0.167065                4.0  0.0\n",
       "10003    0.133419  0.167065                4.0  0.0\n",
       "10004   -0.073432  0.261988                2.0  0.0"
      ]
     },
     "execution_count": 7,
     "metadata": {},
     "output_type": "execute_result"
    }
   ],
   "source": [
    "labels.head()"
   ]
  },
  {
   "cell_type": "markdown",
   "id": "cddc98a1-e236-4d44-99a8-c4d0e69a07ae",
   "metadata": {},
   "source": [
    "# create architecture and test function"
   ]
  },
  {
   "cell_type": "code",
   "execution_count": 8,
   "id": "4e793cba-7229-4ae7-be23-4dad5be4fc81",
   "metadata": {},
   "outputs": [],
   "source": [
    "class MultimodalDataset(Dataset):\n",
    "    def __init__(self, image_dir, tabular_data, transform=None):\n",
    "        \"\"\"\n",
    "        Args:\n",
    "            image_dir (str): Directory containing images.\n",
    "            tabular_data (pd.DataFrame): Dataframe containing labels.\n",
    "            transform (callable, optional): Optional transform for the image data.\n",
    "        \"\"\"\n",
    "        self.image_dataset = datasets.ImageFolder(root=image_dir, transform=transform)\n",
    "        self.tabular_data = tabular_data\n",
    "        self.image_filenames = [x[0].split('/')[-1] for x in self.image_dataset.imgs]\n",
    "        self.transform = transform\n",
    "\n",
    "    def __len__(self):\n",
    "        return len(self.image_dataset)\n",
    "\n",
    "    def __getitem__(self, idx):\n",
    "        # Load image from ImageFolder\n",
    "        img, label = self.image_dataset[idx]\n",
    "        \n",
    "        image_filename = self.image_filenames[idx]\n",
    "\n",
    "        patient_id = int(image_filename.split('.')[0])\n",
    "\n",
    "        # Match the image filename to the corresponding row in the tabular data\n",
    "        tabular = torch.tensor(self.tabular_data.loc[patient_id, :].to_numpy(), dtype=torch.float32)\n",
    "        \n",
    "        return img, tabular, label, image_filename"
   ]
  },
  {
   "cell_type": "code",
   "execution_count": 9,
   "id": "3f3ea65c-805e-4359-a92c-c069bee114a1",
   "metadata": {},
   "outputs": [],
   "source": [
    "class CrossAttentionBlock(nn.Module):\n",
    "    def __init__(self, dim, num_heads=4, dropout=0.1):\n",
    "        super().__init__() # inherit from nn.Module\n",
    "        self.attn = nn.MultiheadAttention(embed_dim = dim, num_heads = num_heads, dropout=dropout, batch_first=True)\n",
    "        self.norm = nn.LayerNorm(dim)\n",
    "        self.feedforward = nn.Sequential(\n",
    "            nn.Linear(dim, dim * 4),\n",
    "            nn.ReLU(),\n",
    "            nn.Linear(dim * 4, dim),\n",
    "        )\n",
    "        self.norm_feedforward = nn.LayerNorm(dim)\n",
    "\n",
    "    def forward(self, q, kv):\n",
    "        # architecture is standard transformer encoder block: attn -> add+norm -> mlp -> add+norm\n",
    "        attn_output, attn_output_weights = self.attn(q, kv, kv) # in cross attention, let one modality (q) attend to another (kv)\n",
    "        x = self.norm(q + attn_output) # residual connection\n",
    "        ff_output = self.feedforward(x) # mlp\n",
    "        return self.norm_feedforward(x + ff_output) # residual connection\n",
    "\n",
    "class BidirectionalCrossAttention(nn.Module):\n",
    "    def __init__(self, dim, num_heads=4, dropout=0.1):\n",
    "        super().__init__()\n",
    "        self.img_to_tab = CrossAttentionBlock(dim, num_heads, dropout)\n",
    "        self.tab_to_img = CrossAttentionBlock(dim, num_heads, dropout)\n",
    "        # return img_out, tab_out\n",
    "\n",
    "    def forward(self, img_embed, tab_embed):\n",
    "        img_out = self.img_to_tab(img_embed, tab_embed)\n",
    "        tab_out = self.tab_to_img(tab_embed, img_embed)\n",
    "        return img_out, tab_out\n",
    "        \n",
    "class MultimodalClassifier(nn.Module):\n",
    "    def __init__(self, fusion_method='cross_attend', embed_dim=512, num_heads=4):\n",
    "        super().__init__() # inherit\n",
    "\n",
    "        # image encoder -- acquire the img embeddings from finetuned resnet\n",
    "        resnet = models.resnet18(weights='DEFAULT')\n",
    "        resnet.fc = nn.Linear(resnet.fc.in_features, 5)\n",
    "        resnet.load_state_dict(torch.load(\"resnet_finetuned.pth\"))\n",
    "        self.image_encoder = nn.Sequential(*list(resnet.children())[:-2])\n",
    "        self.image_encoder.eval()\n",
    "        for param in self.image_encoder.parameters(): # fix the resnet weights\n",
    "            param.requires_grad = False\n",
    "\n",
    "        # cross attention\n",
    "        self.cross_attn = BidirectionalCrossAttention(dim=embed_dim, num_heads=num_heads)\n",
    "\n",
    "        # classifier head\n",
    "        self.classifier = nn.Sequential(\n",
    "            nn.Linear(embed_dim * 2, embed_dim),\n",
    "            nn.ReLU(),\n",
    "            nn.Dropout(0.2),\n",
    "            nn.Linear(embed_dim, 5) # 5 total classes to predict upon\n",
    "        )\n",
    "\n",
    "        # linear layer for combining multimodal data\n",
    "        self.fc_combine = nn.Linear(embed_dim * 2, embed_dim * 2)\n",
    "\n",
    "        self.scalar_projector = nn.Sequential(\n",
    "            nn.Linear(1, embed_dim),\n",
    "            nn.LayerNorm(embed_dim)\n",
    "        )\n",
    "        self.fusion_method = fusion_method\n",
    "\n",
    "    def forward(self, images, tabular):\n",
    "        fused = self.get_embeddings(images, tabular, kind=self.fusion_method)\n",
    "        logits = self.classifier(fused) # [B, num_classes]\n",
    "        return logits, fused\n",
    "        \n",
    "    def get_embeddings(self, images, tabular, kind=None):\n",
    "        if kind is None:\n",
    "            kind = self.fusion_method\n",
    "        # image encoding\n",
    "        self.image_encoder.eval()\n",
    "        B = images.size(0)\n",
    "        x = self.image_encoder(images) # shape: [B, 512, 7, 7]\n",
    "        # print(\"NaNs in image encoder output:\", torch.isnan(x).any(), x.mean(), x.std())\n",
    "        img_embed = x.flatten(2).permute(0, 2, 1) # [B, 49, 512]\n",
    "        \n",
    "        # tabular encoding\n",
    "        tab_embed = []\n",
    "        for i in range(tabular.shape[1]):\n",
    "            feat = tabular[:, i].unsqueeze(-1)  # [B, 1]\n",
    "            emb = self.scalar_projector(feat)   # [B, D]\n",
    "            tab_embed.append(emb)\n",
    "        tab_embed = torch.stack(tab_embed, dim=1)  # [B, num_features, D]\n",
    "\n",
    "        # attempting different methods of combining the encodings\n",
    "        ## bidirectional cross attention\n",
    "        if kind == 'cross_attend':\n",
    "            print(f'Performing cross attention fusion.')\n",
    "            img_updated, tab_updated = self.cross_attn(img_embed, tab_embed)\n",
    "            img_pooled = img_updated.mean(dim=1) # [B, D]\n",
    "            tab_pooled = tab_updated.mean(dim=1) # [B, D]\n",
    "    \n",
    "            fused = torch.cat([img_pooled, tab_pooled], dim=1) # [B, 2D]\n",
    "\n",
    "        # ## concatenation\n",
    "        if kind == 'concatenate':\n",
    "            print(f'Performing concatenation fusion.')\n",
    "            img_pooled = img_embed.mean(dim=1)  # [B, 512]\n",
    "            tab_pooled = tab_embed.mean(dim=1)  # [B, 512]\n",
    "            \n",
    "            fused = torch.cat([img_pooled, tab_pooled], dim=1)  # [B, 1024]\n",
    "        \n",
    "        # ## fully connected layer\n",
    "        if kind == 'fc_layer':\n",
    "            print(f'Performing fully connected layer fusion.')\n",
    "            img_pooled = img_embed.mean(dim=1)  # [B, 512]\n",
    "            tab_pooled = tab_embed.mean(dim=1)  # [B, 512]\n",
    "            \n",
    "            fused = torch.cat([img_pooled, tab_pooled], dim=1)  # [B, 1024]\n",
    "            fused = self.fc_combine(fused)\n",
    " \n",
    "        return fused"
   ]
  },
  {
   "cell_type": "code",
   "execution_count": 10,
   "id": "976353da-633f-4cfd-b8f1-e582d7eacee7",
   "metadata": {},
   "outputs": [],
   "source": [
    "# test loop\n",
    "def test_model(model, dataloader, loss_fn, device, save_prefix=None):\n",
    "    model.to(device)\n",
    "    model.eval()\n",
    "\n",
    "    logits_list, labels_list, embeddings, filenames = [], [], [], []\n",
    "    \n",
    "    with torch.no_grad():\n",
    "        for images, tabulars, labels_batch, batch_filenames in dataloader:\n",
    "            # unload data and send to device\n",
    "            images, tabulars, labels_batch = images.to(device), tabulars.to(device), labels_batch.to(device)\n",
    "\n",
    "            # forward pass\n",
    "            outputs, fused = model(images, tabulars)\n",
    "\n",
    "            # calculate loss\n",
    "            loss = loss_fn(outputs, labels_batch)\n",
    "\n",
    "            logits_list.append(outputs.cpu())\n",
    "            labels_list.append(labels_batch.cpu())\n",
    "            embeddings.append(fused.detach().cpu())\n",
    "            filenames.extend(batch_filenames)\n",
    "\n",
    "    # Convert to NumPy\n",
    "    logits = torch.cat(logits_list).detach().numpy()\n",
    "    probs = F.softmax(torch.tensor(logits), dim=1).numpy()\n",
    "    preds = probs.argmax(axis=1)\n",
    "    true = torch.cat(labels_list).cpu().numpy()\n",
    "\n",
    "    # Compute metrics\n",
    "    acc = accuracy_score(true, preds)\n",
    "    try:\n",
    "        auroc = roc_auc_score(true, probs, multi_class='ovr')  # or 'ovo'\n",
    "    except ValueError:\n",
    "        auroc = float('nan')  # If a class is missing in val_true\n",
    "    \n",
    "    print(f\"Accuracy: {acc:.4f} | AUROC: {auroc:.4f}\")\n",
    "\n",
    "    # Stack all batches of embeddings into a single array\n",
    "    embeddings = torch.cat(embeddings, dim=0).detach().numpy()\n",
    "    \n",
    "    if save_prefix is not None:\n",
    "        prefix = save_prefix\n",
    "        np.save(f\"{prefix}/test_fused_embeddings.npy\", embeddings)\n",
    "        np.save(f\"{prefix}/test_labels.npy\", true)\n",
    "        np.save(f\"{prefix}/test_preds.npy\", preds)\n",
    "        np.save(f\"{prefix}/test_logits.npy\", logits)\n",
    "        pd.DataFrame({\"filename\": filenames}).to_csv(f\"{prefix}/test_filenames.csv\", index=False)\n",
    "                \n",
    "    return {\n",
    "            \"acc\": acc,\n",
    "            \"auroc\": auroc,\n",
    "            \"preds\": preds,\n",
    "            \"true\": true\n",
    "            }"
   ]
  },
  {
   "cell_type": "markdown",
   "id": "8b8474f7-8ffa-4acd-a5c0-993c3048dca6",
   "metadata": {},
   "source": [
    "# run the model"
   ]
  },
  {
   "cell_type": "code",
   "execution_count": 29,
   "id": "93d5e317-ecad-4762-8d6e-0f6c1082614f",
   "metadata": {},
   "outputs": [],
   "source": [
    "version = 'P' # used A, B, C, D, E, F, G\n",
    "prefix = f'may10_{version}'\n",
    "path = prefix\n",
    "import os\n",
    "os.makedirs(path)"
   ]
  },
  {
   "cell_type": "code",
   "execution_count": 12,
   "id": "39460529-a717-4296-8f72-64d01a184785",
   "metadata": {},
   "outputs": [],
   "source": [
    "full_dataset = MultimodalDataset(image_dir=image_dir, tabular_data=labels, transform=transform)\n",
    "full_loader = DataLoader(full_dataset, batch_size=32, shuffle=True)"
   ]
  },
  {
   "cell_type": "code",
   "execution_count": 31,
   "id": "2254c277-5703-4f6f-a247-90760cb3d192",
   "metadata": {},
   "outputs": [
    {
     "name": "stdout",
     "output_type": "stream",
     "text": [
      "Performing fully connected layer fusion.\n",
      "Performing fully connected layer fusion.\n",
      "Performing fully connected layer fusion.\n",
      "Performing fully connected layer fusion.\n",
      "Accuracy: 0.2600 | AUROC: 0.5490\n"
     ]
    }
   ],
   "source": [
    "# Load the cross-attn model\n",
    "best_model = MultimodalClassifier(fusion_method='fc_layer').to(device)\n",
    "best_model.load_state_dict(torch.load(f\"may10_L/best_model.pth\"))\n",
    "\n",
    "optimizer = torch.optim.Adam(best_model.parameters(), lr=1e-3)\n",
    "loss_fn = torch.nn.CrossEntropyLoss()\n",
    "\n",
    "adversarial_results = test_model(\n",
    "    model=best_model,\n",
    "    dataloader=full_loader,\n",
    "    loss_fn=torch.nn.CrossEntropyLoss(),\n",
    "    device=device,\n",
    "    save_prefix=prefix\n",
    ")"
   ]
  },
  {
   "cell_type": "code",
   "execution_count": 32,
   "id": "7edce0b5-3b0b-4f9c-a71d-a1c5c3ac35a4",
   "metadata": {},
   "outputs": [],
   "source": [
    "with open(f\"{prefix}/all_adversarial_results.pkl\", \"wb\") as f:\n",
    "    pickle.dump(adversarial_results, f)"
   ]
  },
  {
   "cell_type": "markdown",
   "id": "efbe28aa-00b3-4ba7-b302-46f4741aca79",
   "metadata": {},
   "source": [
    "# view results"
   ]
  },
  {
   "cell_type": "code",
   "execution_count": 33,
   "id": "5192c0d0-c657-4cbb-9d6c-c716ca4047f5",
   "metadata": {},
   "outputs": [
    {
     "data": {
      "text/plain": [
       "{'acc': 0.26,\n",
       " 'auroc': 0.5489999999999999,\n",
       " 'preds': array([0, 0, 0, 0, 4, 0, 3, 0, 0, 4, 4, 0, 0, 0, 0, 0, 3, 3, 0, 4, 0, 4,\n",
       "        0, 3, 3, 0, 3, 3, 3, 3, 3, 3, 4, 4, 3, 0, 0, 4, 4, 0, 3, 0, 3, 3,\n",
       "        0, 4, 3, 0, 0, 0, 3, 3, 3, 0, 3, 4, 4, 0, 0, 0, 0, 0, 3, 0, 0, 0,\n",
       "        3, 4, 3, 3, 0, 2, 3, 4, 0, 4, 4, 0, 4, 0, 0, 4, 3, 4, 0, 4, 4, 4,\n",
       "        4, 4, 0, 0, 3, 0, 3, 4, 3, 3, 0, 0]),\n",
       " 'true': array([3, 1, 0, 1, 1, 0, 4, 0, 2, 4, 4, 1, 0, 1, 0, 0, 2, 4, 2, 3, 3, 4,\n",
       "        0, 4, 3, 1, 3, 4, 1, 2, 3, 4, 0, 4, 1, 0, 1, 2, 1, 2, 4, 2, 1, 2,\n",
       "        3, 3, 4, 0, 2, 1, 4, 3, 3, 3, 4, 3, 1, 0, 2, 0, 3, 0, 4, 0, 2, 2,\n",
       "        2, 1, 4, 2, 1, 3, 4, 3, 2, 4, 1, 0, 3, 2, 1, 0, 4, 3, 0, 0, 1, 3,\n",
       "        0, 3, 0, 2, 4, 2, 4, 3, 2, 2, 1, 1])}"
      ]
     },
     "execution_count": 33,
     "metadata": {},
     "output_type": "execute_result"
    }
   ],
   "source": [
    "adversarial_results"
   ]
  },
  {
   "cell_type": "code",
   "execution_count": 36,
   "id": "a58b4770-9017-4395-ba39-e60f901edb58",
   "metadata": {},
   "outputs": [],
   "source": [
    "def plot_cf(results, title, fold_idx=0):\n",
    "    \"\"\"\n",
    "    Creates a confusion matrix in line with our default style.\n",
    "    results: dictionary\n",
    "    fold_idx: int\n",
    "\n",
    "    Returns: matplotlib.figure.Figure object.\n",
    "    \"\"\"\n",
    "    preds = results[\"preds\"]\n",
    "    true = results[\"true\"]\n",
    "    \n",
    "    cm = confusion_matrix(true, preds)\n",
    "    \n",
    "    unique_labels = np.unique(np.concatenate([true, preds]))\n",
    "    class_labels = [f\"class_{i}\" for i in unique_labels]\n",
    "    \n",
    "    fig, ax = plt.subplots(figsize=(6, 6))\n",
    "    disp = ConfusionMatrixDisplay(confusion_matrix=cm, display_labels=class_labels)\n",
    "    disp.plot(cmap=\"Blues\", ax=ax, colorbar=True)\n",
    "    \n",
    "    # Set plot spines to white\n",
    "    for spine in ax.spines.values():\n",
    "        spine.set_color(\"white\")\n",
    "    \n",
    "    # Set colorbar border to white\n",
    "    cbar = disp.im_.colorbar\n",
    "    if cbar:\n",
    "        cbar.outline.set_edgecolor(\"white\")\n",
    "    plt.tight_layout()\n",
    "    plt.title(title)\n",
    "    plt.show()\n",
    "    return fig"
   ]
  },
  {
   "cell_type": "code",
   "execution_count": 37,
   "id": "222800d9-76df-4d89-aebc-6249c79a1704",
   "metadata": {},
   "outputs": [
    {
     "data": {
      "image/png": "[encoded data removed]",
      "text/plain": [
       "<Figure size 600x600 with 2 Axes>"
      ]
     },
     "metadata": {},
     "output_type": "display_data"
    }
   ],
   "source": [
    "foo = plot_cf(adversarial_results, 'Adversarial Cross-Attention Test Set')\n",
    "foo.savefig(f\"{prefix}/test_cf.png\", dpi=300, bbox_inches='tight')"
   ]
  },
  {
   "cell_type": "code",
   "execution_count": 1,
   "id": "9d2d91a7-4ea8-4469-a44a-5a3f25a10cae",
   "metadata": {},
   "outputs": [],
   "source": [
    "from common_functions import plot_cf\n"
   ]
  },
  {
   "cell_type": "code",
   "execution_count": 2,
   "id": "f3c7174e-2683-4667-bce1-95383a851407",
   "metadata": {},
   "outputs": [],
   "source": [
    "import pickle\n",
    "filepath = 'may10_P/all_adversarial_results.pkl'\n",
    "with open(filepath, 'rb') as f:\n",
    "    data = pickle.load(f)"
   ]
  },
  {
   "cell_type": "code",
   "execution_count": 4,
   "id": "a799ffbf-1710-4a37-a09b-1b1d26271a3c",
   "metadata": {},
   "outputs": [
    {
     "data": {
      "image/png": "[encoded data removed]",
      "text/plain": [
       "<Figure size 600x600 with 2 Axes>"
      ]
     },
     "metadata": {},
     "output_type": "display_data"
    }
   ],
   "source": [
    "foo = plot_cf(data['preds'], data['true'], 'Adversarial FC_Layer Test Set')"
   ]
  },
  {
   "cell_type": "code",
   "execution_count": 6,
   "id": "a0e6fb8e-3add-4ea6-a80f-91b1a1b9bb8e",
   "metadata": {},
   "outputs": [],
   "source": [
    "prefix = 'may10_P'\n",
    "foo.savefig(f\"{prefix}/test_cf.png\", dpi=300, bbox_inches='tight')"
   ]
  }
 ],
 "metadata": {
  "kernelspec": {
   "display_name": "Python [conda env:cv-env]",
   "language": "python",
   "name": "conda-env-cv-env-py"
  },
  "language_info": {
   "codemirror_mode": {
    "name": "ipython",
    "version": 3
   },
   "file_extension": ".py",
   "mimetype": "text/x-python",
   "name": "python",
   "nbconvert_exporter": "python",
   "pygments_lexer": "ipython3",
   "version": "3.11.9"
  }
 },
 "nbformat": 4,
 "nbformat_minor": 5
}
