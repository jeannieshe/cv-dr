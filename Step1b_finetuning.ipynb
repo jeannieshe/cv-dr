{
 "cells": [
  {
   "cell_type": "markdown",
   "id": "5ea55e34-ee4b-46c3-bd44-4eca4bcafefd",
   "metadata": {
    "jp-MarkdownHeadingCollapsed": true
   },
   "source": [
    "# import statement and load data"
   ]
  },
  {
   "cell_type": "code",
   "execution_count": null,
   "id": "0d9894a0-b093-4d86-94ab-8dc9178452b2",
   "metadata": {},
   "outputs": [],
   "source": [
    "import pandas as pd\n",
    "import numpy as np\n",
    "import seaborn as sns\n",
    "import matplotlib.pyplot as plt\n",
    "from sklearn.metrics import confusion_matrix, classification_report, roc_auc_score, accuracy_score\n",
    "from sklearn.model_selection import train_test_split\n",
    "\n",
    "import torch\n",
    "from torchvision import models, datasets, transforms\n",
    "from torch.utils.data import DataLoader\n",
    "import torch.nn as nn\n",
    "import torch.optim as optim"
   ]
  },
  {
   "cell_type": "code",
   "execution_count": 48,
   "id": "3cd8fb49-6831-4ed2-a179-88419fdd8fd0",
   "metadata": {},
   "outputs": [
    {
     "name": "stdout",
     "output_type": "stream",
     "text": [
      "Using cuda device.\n"
     ]
    }
   ],
   "source": [
    "image_dir = 'images'\n",
    "device = 'cuda' if torch.cuda.is_available() else 'cpu'\n",
    "print(f'Using {device} device.')\n",
    "\n",
    "# Preprocess the data to be the same as the ImageNet ones\n",
    "transform = transforms.Compose([\n",
    "    transforms.Resize((224, 224)),   # Resize directly because images are square\n",
    "    transforms.ToTensor(),\n",
    "    transforms.Normalize(\n",
    "        mean=[0.485, 0.456, 0.406],  # ImageNet mean\n",
    "        std=[0.229, 0.224, 0.225]    # ImageNet std\n",
    "    )\n",
    "])\n",
    "\n",
    "# # Load the dataset using ImageFolder\n",
    "# image_dataset = datasets.ImageFolder(root=image_dir, transform=transform)\n",
    "\n",
    "# # Create a data loader to iterate through the dataset in batches\n",
    "# data_loader = DataLoader(image_dataset, batch_size=32, shuffle=True)\n",
    "\n",
    "# # The labels are automatically assigned based on the folder names\n",
    "# print(image_dataset.class_to_idx) # should only have class 0 through 4\n",
    "\n",
    "# # Iterate through the data loader\n",
    "# for images, labels in data_loader:\n",
    "#     # Process the images and labels\n",
    "#     print(images.shape, labels.shape)\n",
    "#     break"
   ]
  },
  {
   "cell_type": "markdown",
   "id": "eb277d70-f6ba-4e35-9022-d81fb65439ee",
   "metadata": {},
   "source": [
    "# finetune the pretrained resnet18 model"
   ]
  },
  {
   "cell_type": "code",
   "execution_count": 49,
   "id": "db1393bb-3f06-4ed7-bb11-1833cb398f59",
   "metadata": {},
   "outputs": [],
   "source": [
    "model = models.resnet18(weights='DEFAULT')\n",
    "model.fc = nn.Linear(model.fc.in_features, 5) # replace the final layer to only predict on 5 classes"
   ]
  },
  {
   "cell_type": "code",
   "execution_count": 50,
   "id": "ab79fe54-887b-4bfa-9848-4e7f34c17d4d",
   "metadata": {},
   "outputs": [],
   "source": [
    "# split the model taking note of class imbalance into train/test set\n",
    "from sklearn.model_selection import StratifiedShuffleSplit\n",
    "from torch.utils.data import Subset\n",
    "\n",
    "# load full dataset\n",
    "image_dataset = datasets.ImageFolder(root=image_dir, transform=transform)\n",
    "\n",
    "# extract labels\n",
    "targets = np.array(image_dataset.targets)\n",
    "\n",
    "# stratified split to account for class imbalance\n",
    "splitter = StratifiedShuffleSplit(n_splits=1, test_size=0.2, random_state=42)\n",
    "train_idx, test_idx = next(splitter.split(np.zeros(len(targets)), targets))\n",
    "\n",
    "# create subset datasets\n",
    "train_dataset = Subset(image_dataset, train_idx) # recover the same class labels as the original dataset\n",
    "test_dataset = Subset(image_dataset, test_idx)\n",
    "\n",
    "# initialize dataloaders\n",
    "train_loader = DataLoader(train_dataset, batch_size=32, shuffle=True)\n",
    "test_loader = DataLoader(test_dataset, batch_size=32, shuffle=False)"
   ]
  },
  {
   "cell_type": "code",
   "execution_count": null,
   "id": "7b4c49ca-e471-4d12-8e56-ebc039cc813d",
   "metadata": {},
   "outputs": [],
   "source": [
    "# use loss reweighting to pretrain\n",
    "class_counts = np.bincount(targets, minlength=num_classes)\n",
    "total_samples = len(targets)\n",
    "\n",
    "# Inverse frequency weighting\n",
    "class_weights = total_samples / (num_classes * class_counts)\n",
    "\n",
    "# Convert to PyTorch tensor\n",
    "class_weights_tensor = torch.tensor(class_weights, dtype=torch.float32).to(device)\n",
    "\n",
    "# Now use in loss function\n",
    "loss_fn = torch.nn.CrossEntropyLoss(weight=class_weights_tensor)"
   ]
  },
  {
   "cell_type": "code",
   "execution_count": 61,
   "id": "ad1cd7a7-31e6-4f56-a2c9-8ea6630c423b",
   "metadata": {},
   "outputs": [
    {
     "data": {
      "text/plain": [
       "array([3750,  272,  568,   82,  212])"
      ]
     },
     "execution_count": 61,
     "metadata": {},
     "output_type": "execute_result"
    }
   ],
   "source": [
    "class_counts"
   ]
  },
  {
   "cell_type": "code",
   "execution_count": 62,
   "id": "3821a13c-0830-47aa-be64-1644b2857c91",
   "metadata": {},
   "outputs": [
    {
     "data": {
      "text/plain": [
       "array([ 0.26048   ,  3.59117647,  1.71971831, 11.91219512,  4.60754717])"
      ]
     },
     "execution_count": 62,
     "metadata": {},
     "output_type": "execute_result"
    }
   ],
   "source": [
    "class_weights"
   ]
  },
  {
   "cell_type": "code",
   "execution_count": 55,
   "id": "794a4244-676f-412c-88ed-2ef1805c5fdd",
   "metadata": {},
   "outputs": [],
   "source": [
    "# define loss function and optimizer\n",
    "# loss_fn = nn.CrossEntropyLoss() # softmax loss, common for training multiclass classification\n",
    "optimizer = optim.Adam(model.parameters(), lr=1e-4)"
   ]
  },
  {
   "cell_type": "code",
   "execution_count": 63,
   "id": "1f10dda1-b4af-4ce0-b8c7-c2a577deca73",
   "metadata": {
    "scrolled": true
   },
   "outputs": [
    {
     "name": "stdout",
     "output_type": "stream",
     "text": [
      "Epoch 1/30 - Loss: 1.1686 - Accuracy: 0.6043 - AUROC (OVR): 0.7979\n",
      "Epoch 2/30 - Loss: 0.6587 - Accuracy: 0.7172 - AUROC (OVR): 0.9247\n",
      "Epoch 3/30 - Loss: 0.3134 - Accuracy: 0.8661 - AUROC (OVR): 0.9817\n",
      "Epoch 4/30 - Loss: 0.1653 - Accuracy: 0.9209 - AUROC (OVR): 0.9950\n",
      "Epoch 5/30 - Loss: 0.0692 - Accuracy: 0.9713 - AUROC (OVR): 0.9992\n",
      "Epoch 6/30 - Loss: 0.0356 - Accuracy: 0.9887 - AUROC (OVR): 0.9998\n",
      "Epoch 7/30 - Loss: 0.0162 - Accuracy: 0.9969 - AUROC (OVR): 1.0000\n",
      "Epoch 8/30 - Loss: 0.0073 - Accuracy: 0.9992 - AUROC (OVR): 1.0000\n",
      "Epoch 9/30 - Loss: 0.0054 - Accuracy: 1.0000 - AUROC (OVR): 1.0000\n",
      "Epoch 10/30 - Loss: 0.0040 - Accuracy: 0.9997 - AUROC (OVR): 1.0000\n",
      "Epoch 11/30 - Loss: 0.0054 - Accuracy: 0.9992 - AUROC (OVR): 1.0000\n",
      "Epoch 12/30 - Loss: 0.0104 - Accuracy: 0.9980 - AUROC (OVR): 0.9999\n",
      "Epoch 13/30 - Loss: 0.0066 - Accuracy: 0.9987 - AUROC (OVR): 1.0000\n",
      "Epoch 14/30 - Loss: 0.0061 - Accuracy: 0.9985 - AUROC (OVR): 1.0000\n",
      "Epoch 15/30 - Loss: 0.0084 - Accuracy: 0.9977 - AUROC (OVR): 1.0000\n",
      "Epoch 16/30 - Loss: 0.9191 - Accuracy: 0.6604 - AUROC (OVR): 0.8837\n",
      "Epoch 17/30 - Loss: 0.3779 - Accuracy: 0.8326 - AUROC (OVR): 0.9712\n",
      "Epoch 18/30 - Loss: 0.1861 - Accuracy: 0.8986 - AUROC (OVR): 0.9916\n",
      "Epoch 19/30 - Loss: 0.0392 - Accuracy: 0.9808 - AUROC (OVR): 0.9995\n",
      "Epoch 20/30 - Loss: 0.0410 - Accuracy: 0.9803 - AUROC (OVR): 0.9987\n"
     ]
    },
    {
     "ename": "KeyboardInterrupt",
     "evalue": "",
     "output_type": "error",
     "traceback": [
      "\u001b[31m---------------------------------------------------------------------------\u001b[39m",
      "\u001b[31mKeyboardInterrupt\u001b[39m                         Traceback (most recent call last)",
      "\u001b[36mCell\u001b[39m\u001b[36m \u001b[39m\u001b[32mIn[63]\u001b[39m\u001b[32m, line 12\u001b[39m\n\u001b[32m      9\u001b[39m all_probs = []\n\u001b[32m     10\u001b[39m all_labels = []\n\u001b[32m---> \u001b[39m\u001b[32m12\u001b[39m \u001b[43m\u001b[49m\u001b[38;5;28;43;01mfor\u001b[39;49;00m\u001b[43m \u001b[49m\u001b[43minputs\u001b[49m\u001b[43m,\u001b[49m\u001b[43m \u001b[49m\u001b[43mlabels\u001b[49m\u001b[43m \u001b[49m\u001b[38;5;129;43;01min\u001b[39;49;00m\u001b[43m \u001b[49m\u001b[43mtrain_loader\u001b[49m\u001b[43m:\u001b[49m\n\u001b[32m     13\u001b[39m \u001b[43m    \u001b[49m\u001b[43minputs\u001b[49m\u001b[43m \u001b[49m\u001b[43m=\u001b[49m\u001b[43m \u001b[49m\u001b[43minputs\u001b[49m\u001b[43m.\u001b[49m\u001b[43mto\u001b[49m\u001b[43m(\u001b[49m\u001b[43mdevice\u001b[49m\u001b[43m)\u001b[49m\n\u001b[32m     14\u001b[39m \u001b[43m    \u001b[49m\u001b[43mlabels\u001b[49m\u001b[43m \u001b[49m\u001b[43m=\u001b[49m\u001b[43m \u001b[49m\u001b[43mlabels\u001b[49m\u001b[43m.\u001b[49m\u001b[43mto\u001b[49m\u001b[43m(\u001b[49m\u001b[43mdevice\u001b[49m\u001b[43m)\u001b[49m\n",
      "\u001b[36mFile \u001b[39m\u001b[32m~/miniforge3/envs/cv-env/lib/python3.11/site-packages/torch/utils/data/dataloader.py:633\u001b[39m, in \u001b[36m_BaseDataLoaderIter.__next__\u001b[39m\u001b[34m(self)\u001b[39m\n\u001b[32m    630\u001b[39m \u001b[38;5;28;01mif\u001b[39;00m \u001b[38;5;28mself\u001b[39m._sampler_iter \u001b[38;5;129;01mis\u001b[39;00m \u001b[38;5;28;01mNone\u001b[39;00m:\n\u001b[32m    631\u001b[39m     \u001b[38;5;66;03m# TODO(https://github.com/pytorch/pytorch/issues/76750)\u001b[39;00m\n\u001b[32m    632\u001b[39m     \u001b[38;5;28mself\u001b[39m._reset()  \u001b[38;5;66;03m# type: ignore[call-arg]\u001b[39;00m\n\u001b[32m--> \u001b[39m\u001b[32m633\u001b[39m data = \u001b[38;5;28;43mself\u001b[39;49m\u001b[43m.\u001b[49m\u001b[43m_next_data\u001b[49m\u001b[43m(\u001b[49m\u001b[43m)\u001b[49m\n\u001b[32m    634\u001b[39m \u001b[38;5;28mself\u001b[39m._num_yielded += \u001b[32m1\u001b[39m\n\u001b[32m    635\u001b[39m \u001b[38;5;28;01mif\u001b[39;00m \u001b[38;5;28mself\u001b[39m._dataset_kind == _DatasetKind.Iterable \u001b[38;5;129;01mand\u001b[39;00m \\\n\u001b[32m    636\u001b[39m         \u001b[38;5;28mself\u001b[39m._IterableDataset_len_called \u001b[38;5;129;01mis\u001b[39;00m \u001b[38;5;129;01mnot\u001b[39;00m \u001b[38;5;28;01mNone\u001b[39;00m \u001b[38;5;129;01mand\u001b[39;00m \\\n\u001b[32m    637\u001b[39m         \u001b[38;5;28mself\u001b[39m._num_yielded > \u001b[38;5;28mself\u001b[39m._IterableDataset_len_called:\n",
      "\u001b[36mFile \u001b[39m\u001b[32m~/miniforge3/envs/cv-env/lib/python3.11/site-packages/torch/utils/data/dataloader.py:677\u001b[39m, in \u001b[36m_SingleProcessDataLoaderIter._next_data\u001b[39m\u001b[34m(self)\u001b[39m\n\u001b[32m    675\u001b[39m \u001b[38;5;28;01mdef\u001b[39;00m\u001b[38;5;250m \u001b[39m\u001b[34m_next_data\u001b[39m(\u001b[38;5;28mself\u001b[39m):\n\u001b[32m    676\u001b[39m     index = \u001b[38;5;28mself\u001b[39m._next_index()  \u001b[38;5;66;03m# may raise StopIteration\u001b[39;00m\n\u001b[32m--> \u001b[39m\u001b[32m677\u001b[39m     data = \u001b[38;5;28;43mself\u001b[39;49m\u001b[43m.\u001b[49m\u001b[43m_dataset_fetcher\u001b[49m\u001b[43m.\u001b[49m\u001b[43mfetch\u001b[49m\u001b[43m(\u001b[49m\u001b[43mindex\u001b[49m\u001b[43m)\u001b[49m  \u001b[38;5;66;03m# may raise StopIteration\u001b[39;00m\n\u001b[32m    678\u001b[39m     \u001b[38;5;28;01mif\u001b[39;00m \u001b[38;5;28mself\u001b[39m._pin_memory:\n\u001b[32m    679\u001b[39m         data = _utils.pin_memory.pin_memory(data, \u001b[38;5;28mself\u001b[39m._pin_memory_device)\n",
      "\u001b[36mFile \u001b[39m\u001b[32m~/miniforge3/envs/cv-env/lib/python3.11/site-packages/torch/utils/data/_utils/fetch.py:51\u001b[39m, in \u001b[36m_MapDatasetFetcher.fetch\u001b[39m\u001b[34m(self, possibly_batched_index)\u001b[39m\n\u001b[32m     49\u001b[39m         data = \u001b[38;5;28mself\u001b[39m.dataset.__getitems__(possibly_batched_index)\n\u001b[32m     50\u001b[39m     \u001b[38;5;28;01melse\u001b[39;00m:\n\u001b[32m---> \u001b[39m\u001b[32m51\u001b[39m         data = \u001b[43m[\u001b[49m\u001b[38;5;28;43mself\u001b[39;49m\u001b[43m.\u001b[49m\u001b[43mdataset\u001b[49m\u001b[43m[\u001b[49m\u001b[43midx\u001b[49m\u001b[43m]\u001b[49m\u001b[43m \u001b[49m\u001b[38;5;28;43;01mfor\u001b[39;49;00m\u001b[43m \u001b[49m\u001b[43midx\u001b[49m\u001b[43m \u001b[49m\u001b[38;5;129;43;01min\u001b[39;49;00m\u001b[43m \u001b[49m\u001b[43mpossibly_batched_index\u001b[49m\u001b[43m]\u001b[49m\n\u001b[32m     52\u001b[39m \u001b[38;5;28;01melse\u001b[39;00m:\n\u001b[32m     53\u001b[39m     data = \u001b[38;5;28mself\u001b[39m.dataset[possibly_batched_index]\n",
      "\u001b[36mFile \u001b[39m\u001b[32m~/miniforge3/envs/cv-env/lib/python3.11/site-packages/torch/utils/data/_utils/fetch.py:51\u001b[39m, in \u001b[36m<listcomp>\u001b[39m\u001b[34m(.0)\u001b[39m\n\u001b[32m     49\u001b[39m         data = \u001b[38;5;28mself\u001b[39m.dataset.__getitems__(possibly_batched_index)\n\u001b[32m     50\u001b[39m     \u001b[38;5;28;01melse\u001b[39;00m:\n\u001b[32m---> \u001b[39m\u001b[32m51\u001b[39m         data = [\u001b[38;5;28;43mself\u001b[39;49m\u001b[43m.\u001b[49m\u001b[43mdataset\u001b[49m\u001b[43m[\u001b[49m\u001b[43midx\u001b[49m\u001b[43m]\u001b[49m \u001b[38;5;28;01mfor\u001b[39;00m idx \u001b[38;5;129;01min\u001b[39;00m possibly_batched_index]\n\u001b[32m     52\u001b[39m \u001b[38;5;28;01melse\u001b[39;00m:\n\u001b[32m     53\u001b[39m     data = \u001b[38;5;28mself\u001b[39m.dataset[possibly_batched_index]\n",
      "\u001b[36mFile \u001b[39m\u001b[32m~/miniforge3/envs/cv-env/lib/python3.11/site-packages/torch/utils/data/dataset.py:298\u001b[39m, in \u001b[36mSubset.__getitem__\u001b[39m\u001b[34m(self, idx)\u001b[39m\n\u001b[32m    296\u001b[39m \u001b[38;5;28;01mif\u001b[39;00m \u001b[38;5;28misinstance\u001b[39m(idx, \u001b[38;5;28mlist\u001b[39m):\n\u001b[32m    297\u001b[39m     \u001b[38;5;28;01mreturn\u001b[39;00m \u001b[38;5;28mself\u001b[39m.dataset[[\u001b[38;5;28mself\u001b[39m.indices[i] \u001b[38;5;28;01mfor\u001b[39;00m i \u001b[38;5;129;01min\u001b[39;00m idx]]\n\u001b[32m--> \u001b[39m\u001b[32m298\u001b[39m \u001b[38;5;28;01mreturn\u001b[39;00m \u001b[38;5;28;43mself\u001b[39;49m\u001b[43m.\u001b[49m\u001b[43mdataset\u001b[49m\u001b[43m[\u001b[49m\u001b[38;5;28;43mself\u001b[39;49m\u001b[43m.\u001b[49m\u001b[43mindices\u001b[49m\u001b[43m[\u001b[49m\u001b[43midx\u001b[49m\u001b[43m]\u001b[49m\u001b[43m]\u001b[49m\n",
      "\u001b[36mFile \u001b[39m\u001b[32m~/miniforge3/envs/cv-env/lib/python3.11/site-packages/torchvision/datasets/folder.py:231\u001b[39m, in \u001b[36mDatasetFolder.__getitem__\u001b[39m\u001b[34m(self, index)\u001b[39m\n\u001b[32m    229\u001b[39m sample = \u001b[38;5;28mself\u001b[39m.loader(path)\n\u001b[32m    230\u001b[39m \u001b[38;5;28;01mif\u001b[39;00m \u001b[38;5;28mself\u001b[39m.transform \u001b[38;5;129;01mis\u001b[39;00m \u001b[38;5;129;01mnot\u001b[39;00m \u001b[38;5;28;01mNone\u001b[39;00m:\n\u001b[32m--> \u001b[39m\u001b[32m231\u001b[39m     sample = \u001b[38;5;28;43mself\u001b[39;49m\u001b[43m.\u001b[49m\u001b[43mtransform\u001b[49m\u001b[43m(\u001b[49m\u001b[43msample\u001b[49m\u001b[43m)\u001b[49m\n\u001b[32m    232\u001b[39m \u001b[38;5;28;01mif\u001b[39;00m \u001b[38;5;28mself\u001b[39m.target_transform \u001b[38;5;129;01mis\u001b[39;00m \u001b[38;5;129;01mnot\u001b[39;00m \u001b[38;5;28;01mNone\u001b[39;00m:\n\u001b[32m    233\u001b[39m     target = \u001b[38;5;28mself\u001b[39m.target_transform(target)\n",
      "\u001b[36mFile \u001b[39m\u001b[32m~/miniforge3/envs/cv-env/lib/python3.11/site-packages/torchvision/transforms/transforms.py:95\u001b[39m, in \u001b[36mCompose.__call__\u001b[39m\u001b[34m(self, img)\u001b[39m\n\u001b[32m     93\u001b[39m \u001b[38;5;28;01mdef\u001b[39;00m\u001b[38;5;250m \u001b[39m\u001b[34m__call__\u001b[39m(\u001b[38;5;28mself\u001b[39m, img):\n\u001b[32m     94\u001b[39m     \u001b[38;5;28;01mfor\u001b[39;00m t \u001b[38;5;129;01min\u001b[39;00m \u001b[38;5;28mself\u001b[39m.transforms:\n\u001b[32m---> \u001b[39m\u001b[32m95\u001b[39m         img = \u001b[43mt\u001b[49m\u001b[43m(\u001b[49m\u001b[43mimg\u001b[49m\u001b[43m)\u001b[49m\n\u001b[32m     96\u001b[39m     \u001b[38;5;28;01mreturn\u001b[39;00m img\n",
      "\u001b[36mFile \u001b[39m\u001b[32m~/miniforge3/envs/cv-env/lib/python3.11/site-packages/torch/nn/modules/module.py:1501\u001b[39m, in \u001b[36mModule._call_impl\u001b[39m\u001b[34m(self, *args, **kwargs)\u001b[39m\n\u001b[32m   1496\u001b[39m \u001b[38;5;66;03m# If we don't have any hooks, we want to skip the rest of the logic in\u001b[39;00m\n\u001b[32m   1497\u001b[39m \u001b[38;5;66;03m# this function, and just call forward.\u001b[39;00m\n\u001b[32m   1498\u001b[39m \u001b[38;5;28;01mif\u001b[39;00m \u001b[38;5;129;01mnot\u001b[39;00m (\u001b[38;5;28mself\u001b[39m._backward_hooks \u001b[38;5;129;01mor\u001b[39;00m \u001b[38;5;28mself\u001b[39m._backward_pre_hooks \u001b[38;5;129;01mor\u001b[39;00m \u001b[38;5;28mself\u001b[39m._forward_hooks \u001b[38;5;129;01mor\u001b[39;00m \u001b[38;5;28mself\u001b[39m._forward_pre_hooks\n\u001b[32m   1499\u001b[39m         \u001b[38;5;129;01mor\u001b[39;00m _global_backward_pre_hooks \u001b[38;5;129;01mor\u001b[39;00m _global_backward_hooks\n\u001b[32m   1500\u001b[39m         \u001b[38;5;129;01mor\u001b[39;00m _global_forward_hooks \u001b[38;5;129;01mor\u001b[39;00m _global_forward_pre_hooks):\n\u001b[32m-> \u001b[39m\u001b[32m1501\u001b[39m     \u001b[38;5;28;01mreturn\u001b[39;00m \u001b[43mforward_call\u001b[49m\u001b[43m(\u001b[49m\u001b[43m*\u001b[49m\u001b[43margs\u001b[49m\u001b[43m,\u001b[49m\u001b[43m \u001b[49m\u001b[43m*\u001b[49m\u001b[43m*\u001b[49m\u001b[43mkwargs\u001b[49m\u001b[43m)\u001b[49m\n\u001b[32m   1502\u001b[39m \u001b[38;5;66;03m# Do not call functions when jit is used\u001b[39;00m\n\u001b[32m   1503\u001b[39m full_backward_hooks, non_full_backward_hooks = [], []\n",
      "\u001b[36mFile \u001b[39m\u001b[32m~/miniforge3/envs/cv-env/lib/python3.11/site-packages/torchvision/transforms/transforms.py:361\u001b[39m, in \u001b[36mResize.forward\u001b[39m\u001b[34m(self, img)\u001b[39m\n\u001b[32m    353\u001b[39m \u001b[38;5;28;01mdef\u001b[39;00m\u001b[38;5;250m \u001b[39m\u001b[34mforward\u001b[39m(\u001b[38;5;28mself\u001b[39m, img):\n\u001b[32m    354\u001b[39m \u001b[38;5;250m    \u001b[39m\u001b[33;03m\"\"\"\u001b[39;00m\n\u001b[32m    355\u001b[39m \u001b[33;03m    Args:\u001b[39;00m\n\u001b[32m    356\u001b[39m \u001b[33;03m        img (PIL Image or Tensor): Image to be scaled.\u001b[39;00m\n\u001b[32m   (...)\u001b[39m\u001b[32m    359\u001b[39m \u001b[33;03m        PIL Image or Tensor: Rescaled image.\u001b[39;00m\n\u001b[32m    360\u001b[39m \u001b[33;03m    \"\"\"\u001b[39;00m\n\u001b[32m--> \u001b[39m\u001b[32m361\u001b[39m     \u001b[38;5;28;01mreturn\u001b[39;00m \u001b[43mF\u001b[49m\u001b[43m.\u001b[49m\u001b[43mresize\u001b[49m\u001b[43m(\u001b[49m\u001b[43mimg\u001b[49m\u001b[43m,\u001b[49m\u001b[43m \u001b[49m\u001b[38;5;28;43mself\u001b[39;49m\u001b[43m.\u001b[49m\u001b[43msize\u001b[49m\u001b[43m,\u001b[49m\u001b[43m \u001b[49m\u001b[38;5;28;43mself\u001b[39;49m\u001b[43m.\u001b[49m\u001b[43minterpolation\u001b[49m\u001b[43m,\u001b[49m\u001b[43m \u001b[49m\u001b[38;5;28;43mself\u001b[39;49m\u001b[43m.\u001b[49m\u001b[43mmax_size\u001b[49m\u001b[43m,\u001b[49m\u001b[43m \u001b[49m\u001b[38;5;28;43mself\u001b[39;49m\u001b[43m.\u001b[49m\u001b[43mantialias\u001b[49m\u001b[43m)\u001b[49m\n",
      "\u001b[36mFile \u001b[39m\u001b[32m~/miniforge3/envs/cv-env/lib/python3.11/site-packages/torchvision/transforms/functional.py:490\u001b[39m, in \u001b[36mresize\u001b[39m\u001b[34m(img, size, interpolation, max_size, antialias)\u001b[39m\n\u001b[32m    488\u001b[39m         warnings.warn(\u001b[33m\"\u001b[39m\u001b[33mAnti-alias option is always applied for PIL Image input. Argument antialias is ignored.\u001b[39m\u001b[33m\"\u001b[39m)\n\u001b[32m    489\u001b[39m     pil_interpolation = pil_modes_mapping[interpolation]\n\u001b[32m--> \u001b[39m\u001b[32m490\u001b[39m     \u001b[38;5;28;01mreturn\u001b[39;00m \u001b[43mF_pil\u001b[49m\u001b[43m.\u001b[49m\u001b[43mresize\u001b[49m\u001b[43m(\u001b[49m\u001b[43mimg\u001b[49m\u001b[43m,\u001b[49m\u001b[43m \u001b[49m\u001b[43msize\u001b[49m\u001b[43m=\u001b[49m\u001b[43moutput_size\u001b[49m\u001b[43m,\u001b[49m\u001b[43m \u001b[49m\u001b[43minterpolation\u001b[49m\u001b[43m=\u001b[49m\u001b[43mpil_interpolation\u001b[49m\u001b[43m)\u001b[49m\n\u001b[32m    492\u001b[39m \u001b[38;5;28;01mreturn\u001b[39;00m F_t.resize(img, size=output_size, interpolation=interpolation.value, antialias=antialias)\n",
      "\u001b[36mFile \u001b[39m\u001b[32m~/miniforge3/envs/cv-env/lib/python3.11/site-packages/torchvision/transforms/_functional_pil.py:250\u001b[39m, in \u001b[36mresize\u001b[39m\u001b[34m(img, size, interpolation)\u001b[39m\n\u001b[32m    247\u001b[39m \u001b[38;5;28;01mif\u001b[39;00m \u001b[38;5;129;01mnot\u001b[39;00m (\u001b[38;5;28misinstance\u001b[39m(size, \u001b[38;5;28mlist\u001b[39m) \u001b[38;5;129;01mand\u001b[39;00m \u001b[38;5;28mlen\u001b[39m(size) == \u001b[32m2\u001b[39m):\n\u001b[32m    248\u001b[39m     \u001b[38;5;28;01mraise\u001b[39;00m \u001b[38;5;167;01mTypeError\u001b[39;00m(\u001b[33mf\u001b[39m\u001b[33m\"\u001b[39m\u001b[33mGot inappropriate size arg: \u001b[39m\u001b[38;5;132;01m{\u001b[39;00msize\u001b[38;5;132;01m}\u001b[39;00m\u001b[33m\"\u001b[39m)\n\u001b[32m--> \u001b[39m\u001b[32m250\u001b[39m \u001b[38;5;28;01mreturn\u001b[39;00m \u001b[43mimg\u001b[49m\u001b[43m.\u001b[49m\u001b[43mresize\u001b[49m\u001b[43m(\u001b[49m\u001b[38;5;28;43mtuple\u001b[39;49m\u001b[43m(\u001b[49m\u001b[43msize\u001b[49m\u001b[43m[\u001b[49m\u001b[43m:\u001b[49m\u001b[43m:\u001b[49m\u001b[43m-\u001b[49m\u001b[32;43m1\u001b[39;49m\u001b[43m]\u001b[49m\u001b[43m)\u001b[49m\u001b[43m,\u001b[49m\u001b[43m \u001b[49m\u001b[43minterpolation\u001b[49m\u001b[43m)\u001b[49m\n",
      "\u001b[36mFile \u001b[39m\u001b[32m~/miniforge3/envs/cv-env/lib/python3.11/site-packages/PIL/Image.py:2192\u001b[39m, in \u001b[36mImage.resize\u001b[39m\u001b[34m(self, size, resample, box, reducing_gap)\u001b[39m\n\u001b[32m   2184\u001b[39m             \u001b[38;5;28mself\u001b[39m = Image.reduce(\u001b[38;5;28mself\u001b[39m, factor, box=reduce_box)\n\u001b[32m   2185\u001b[39m         box = (\n\u001b[32m   2186\u001b[39m             (box[\u001b[32m0\u001b[39m] - reduce_box[\u001b[32m0\u001b[39m]) / factor_x,\n\u001b[32m   2187\u001b[39m             (box[\u001b[32m1\u001b[39m] - reduce_box[\u001b[32m1\u001b[39m]) / factor_y,\n\u001b[32m   2188\u001b[39m             (box[\u001b[32m2\u001b[39m] - reduce_box[\u001b[32m0\u001b[39m]) / factor_x,\n\u001b[32m   2189\u001b[39m             (box[\u001b[32m3\u001b[39m] - reduce_box[\u001b[32m1\u001b[39m]) / factor_y,\n\u001b[32m   2190\u001b[39m         )\n\u001b[32m-> \u001b[39m\u001b[32m2192\u001b[39m \u001b[38;5;28;01mreturn\u001b[39;00m \u001b[38;5;28mself\u001b[39m._new(\u001b[38;5;28;43mself\u001b[39;49m\u001b[43m.\u001b[49m\u001b[43mim\u001b[49m\u001b[43m.\u001b[49m\u001b[43mresize\u001b[49m\u001b[43m(\u001b[49m\u001b[43msize\u001b[49m\u001b[43m,\u001b[49m\u001b[43m \u001b[49m\u001b[43mresample\u001b[49m\u001b[43m,\u001b[49m\u001b[43m \u001b[49m\u001b[43mbox\u001b[49m\u001b[43m)\u001b[49m)\n",
      "\u001b[31mKeyboardInterrupt\u001b[39m: "
     ]
    }
   ],
   "source": [
    "# training loop\n",
    "num_epochs = 30\n",
    "model.to(device)\n",
    "model.train()\n",
    "\n",
    "for epoch in range(num_epochs):\n",
    "    running_loss = 0\n",
    "    all_preds = []\n",
    "    all_probs = []\n",
    "    all_labels = []\n",
    "    \n",
    "    for inputs, labels in train_loader:\n",
    "        inputs = inputs.to(device)\n",
    "        labels = labels.to(device)\n",
    "\n",
    "        optimizer.zero_grad()\n",
    "\n",
    "        outputs = model(inputs)  # raw logits\n",
    "        loss = loss_fn(outputs, labels)\n",
    "        loss.backward()\n",
    "        optimizer.step()\n",
    "\n",
    "        running_loss += loss.item() * inputs.size(0)\n",
    "\n",
    "        # For metrics\n",
    "        probs = F.softmax(outputs, dim=1)  # convert logits to probs\n",
    "        preds = torch.argmax(probs, dim=1)\n",
    "\n",
    "        all_preds.extend(preds.cpu().numpy())\n",
    "        all_probs.extend(probs.detach().cpu().numpy())\n",
    "        all_labels.extend(labels.cpu().numpy())\n",
    "\n",
    "    epoch_loss = running_loss / len(train_loader.dataset)\n",
    "\n",
    "    # Compute metrics\n",
    "    epoch_acc = accuracy_score(all_labels, all_preds)\n",
    "\n",
    "    try:\n",
    "        epoch_auroc = roc_auc_score(all_labels, all_probs, multi_class='ovr')\n",
    "    except ValueError:\n",
    "        epoch_auroc = float('nan')  # handle case where AUROC can't be computed\n",
    "\n",
    "    print(f\"Epoch {epoch+1}/{num_epochs} - Loss: {epoch_loss:.4f} - \"\n",
    "          f\"Accuracy: {epoch_acc:.4f} - AUROC (OVR): {epoch_auroc:.4f}\")\n"
   ]
  },
  {
   "cell_type": "markdown",
   "id": "64d8b382-4dbb-42c3-9605-da0f3547ee00",
   "metadata": {
    "jp-MarkdownHeadingCollapsed": true
   },
   "source": [
    "# evaluate the performance on test set"
   ]
  },
  {
   "cell_type": "code",
   "execution_count": 64,
   "id": "e3e55298-9454-4664-a0c3-188b678d334e",
   "metadata": {},
   "outputs": [],
   "source": [
    "torch.save(model.state_dict(), 'finetuned_resnet18_may12.pth')"
   ]
  },
  {
   "cell_type": "code",
   "execution_count": 65,
   "id": "658ea18a-8007-44cd-97c0-1abccf70fe84",
   "metadata": {},
   "outputs": [],
   "source": [
    "model = model.eval()\n",
    "all_outputs = []\n",
    "true_labels = []\n",
    "\n",
    "with torch.no_grad():\n",
    "    for inputs, labels in test_loader:\n",
    "        inputs = inputs.to(device) # send to gpu\n",
    "        labels = labels.to(device)\n",
    "        \n",
    "        outputs = model(inputs)\n",
    "        true_labels.append(labels)\n",
    "        all_outputs.append(outputs)"
   ]
  },
  {
   "cell_type": "code",
   "execution_count": 66,
   "id": "1b041db1-21bd-4cfb-a8c4-c4d7dd169098",
   "metadata": {},
   "outputs": [],
   "source": [
    "all_outputs_cat = torch.cat(all_outputs, dim=0)\n",
    "predicted = torch.argmax(all_outputs_cat, dim=1)\n",
    "true_labels = torch.cat(true_labels, dim=0)"
   ]
  },
  {
   "cell_type": "code",
   "execution_count": 67,
   "id": "7f751f52-dc41-4d7f-81c4-8e78a5e2f9bd",
   "metadata": {},
   "outputs": [
    {
     "name": "stdout",
     "output_type": "stream",
     "text": [
      "Accuracy: 0.8229273285568065\n"
     ]
    }
   ],
   "source": [
    "print(f'Accuracy: {accuracy_score(true_labels.cpu(), predicted.cpu())}')"
   ]
  },
  {
   "cell_type": "code",
   "execution_count": 43,
   "id": "57a35aa7-134f-4bbd-9b01-e4f2d683f053",
   "metadata": {},
   "outputs": [
    {
     "data": {
      "image/png": "[encoded data removed]",
      "text/plain": [
       "<Figure size 600x500 with 2 Axes>"
      ]
     },
     "metadata": {},
     "output_type": "display_data"
    }
   ],
   "source": [
    "cf = confusion_matrix(true_labels.cpu(), predicted.cpu())\n",
    "# Get class labels (from the dataset)\n",
    "class_names = list(image_dataset.class_to_idx.keys())\n",
    "\n",
    "# Create labeled DataFrame\n",
    "cf_df = pd.DataFrame(cf, index=class_names, columns=class_names)b\n",
    "\n",
    "# Plot\n",
    "plt.figure(figsize=(6, 5))\n",
    "sns.heatmap(cf_df, annot=True, fmt='d', cmap='Blues')\n",
    "plt.xlabel(\"Predicted Label\")\n",
    "plt.ylabel(\"True Label\")\n",
    "plt.title(\"Confusion Matrix\")\n",
    "plt.show()"
   ]
  },
  {
   "cell_type": "code",
   "execution_count": 45,
   "id": "803dc796-f079-4a39-ba85-27393c87014c",
   "metadata": {},
   "outputs": [
    {
     "name": "stdout",
     "output_type": "stream",
     "text": [
      "              precision    recall  f1-score   support\n",
      "\n",
      "           0       0.88      0.98      0.93       750\n",
      "           1       0.43      0.11      0.17        55\n",
      "           2       0.78      0.41      0.54       114\n",
      "           3       0.50      0.25      0.33        16\n",
      "           4       0.63      0.93      0.75        42\n",
      "\n",
      "    accuracy                           0.85       977\n",
      "   macro avg       0.64      0.54      0.54       977\n",
      "weighted avg       0.83      0.85      0.82       977\n",
      "\n"
     ]
    }
   ],
   "source": [
    "print(classification_report(true_labels.cpu(), predicted.cpu()))"
   ]
  },
  {
   "cell_type": "code",
   "execution_count": 44,
   "id": "5e6b33ea-b4a0-46df-b100-96950a5a4cb4",
   "metadata": {},
   "outputs": [
    {
     "name": "stdout",
     "output_type": "stream",
     "text": [
      "Counter({0: 750, 2: 114, 1: 55, 4: 42, 3: 16})\n"
     ]
    }
   ],
   "source": [
    "from collections import Counter\n",
    "\n",
    "# test_dataset is a Subset of image_dataset\n",
    "subset_labels = [image_dataset.targets[i] for i in test_dataset.indices]\n",
    "\n",
    "# Count occurrences per class\n",
    "class_counts = Counter(subset_labels)\n",
    "print(class_counts)"
   ]
  },
  {
   "cell_type": "markdown",
   "id": "4538b16b-8a3e-4eb1-aaeb-28429f84b23a",
   "metadata": {
    "jp-MarkdownHeadingCollapsed": true
   },
   "source": [
    "# save finetuned model weights"
   ]
  },
  {
   "cell_type": "code",
   "execution_count": 21,
   "id": "8b354afe-9a6d-4caf-adbf-6fb91458b4e5",
   "metadata": {},
   "outputs": [],
   "source": [
    "torch.save(model.state_dict(), \"resnet_finetuned.pth\")"
   ]
  },
  {
   "cell_type": "code",
   "execution_count": 38,
   "id": "80e8b4ed-33ad-4d2e-ba00-325d7da9bb51",
   "metadata": {},
   "outputs": [],
   "source": [
    "torch.save(model, \"resnet_finetuned_full.pt\")"
   ]
  },
  {
   "cell_type": "markdown",
   "id": "77ddb0f1-d4c9-4a28-a396-f87d07b391c0",
   "metadata": {},
   "source": [
    "# load saved weights and run on test set again"
   ]
  },
  {
   "cell_type": "code",
   "execution_count": 9,
   "id": "0cc2684f-036f-4314-b1a8-49bb41767b9c",
   "metadata": {
    "scrolled": true
   },
   "outputs": [
    {
     "data": {
      "text/plain": [
       "ResNet(\n",
       "  (conv1): Conv2d(3, 64, kernel_size=(7, 7), stride=(2, 2), padding=(3, 3), bias=False)\n",
       "  (bn1): BatchNorm2d(64, eps=1e-05, momentum=0.1, affine=True, track_running_stats=True)\n",
       "  (relu): ReLU(inplace=True)\n",
       "  (maxpool): MaxPool2d(kernel_size=3, stride=2, padding=1, dilation=1, ceil_mode=False)\n",
       "  (layer1): Sequential(\n",
       "    (0): BasicBlock(\n",
       "      (conv1): Conv2d(64, 64, kernel_size=(3, 3), stride=(1, 1), padding=(1, 1), bias=False)\n",
       "      (bn1): BatchNorm2d(64, eps=1e-05, momentum=0.1, affine=True, track_running_stats=True)\n",
       "      (relu): ReLU(inplace=True)\n",
       "      (conv2): Conv2d(64, 64, kernel_size=(3, 3), stride=(1, 1), padding=(1, 1), bias=False)\n",
       "      (bn2): BatchNorm2d(64, eps=1e-05, momentum=0.1, affine=True, track_running_stats=True)\n",
       "    )\n",
       "    (1): BasicBlock(\n",
       "      (conv1): Conv2d(64, 64, kernel_size=(3, 3), stride=(1, 1), padding=(1, 1), bias=False)\n",
       "      (bn1): BatchNorm2d(64, eps=1e-05, momentum=0.1, affine=True, track_running_stats=True)\n",
       "      (relu): ReLU(inplace=True)\n",
       "      (conv2): Conv2d(64, 64, kernel_size=(3, 3), stride=(1, 1), padding=(1, 1), bias=False)\n",
       "      (bn2): BatchNorm2d(64, eps=1e-05, momentum=0.1, affine=True, track_running_stats=True)\n",
       "    )\n",
       "  )\n",
       "  (layer2): Sequential(\n",
       "    (0): BasicBlock(\n",
       "      (conv1): Conv2d(64, 128, kernel_size=(3, 3), stride=(2, 2), padding=(1, 1), bias=False)\n",
       "      (bn1): BatchNorm2d(128, eps=1e-05, momentum=0.1, affine=True, track_running_stats=True)\n",
       "      (relu): ReLU(inplace=True)\n",
       "      (conv2): Conv2d(128, 128, kernel_size=(3, 3), stride=(1, 1), padding=(1, 1), bias=False)\n",
       "      (bn2): BatchNorm2d(128, eps=1e-05, momentum=0.1, affine=True, track_running_stats=True)\n",
       "      (downsample): Sequential(\n",
       "        (0): Conv2d(64, 128, kernel_size=(1, 1), stride=(2, 2), bias=False)\n",
       "        (1): BatchNorm2d(128, eps=1e-05, momentum=0.1, affine=True, track_running_stats=True)\n",
       "      )\n",
       "    )\n",
       "    (1): BasicBlock(\n",
       "      (conv1): Conv2d(128, 128, kernel_size=(3, 3), stride=(1, 1), padding=(1, 1), bias=False)\n",
       "      (bn1): BatchNorm2d(128, eps=1e-05, momentum=0.1, affine=True, track_running_stats=True)\n",
       "      (relu): ReLU(inplace=True)\n",
       "      (conv2): Conv2d(128, 128, kernel_size=(3, 3), stride=(1, 1), padding=(1, 1), bias=False)\n",
       "      (bn2): BatchNorm2d(128, eps=1e-05, momentum=0.1, affine=True, track_running_stats=True)\n",
       "    )\n",
       "  )\n",
       "  (layer3): Sequential(\n",
       "    (0): BasicBlock(\n",
       "      (conv1): Conv2d(128, 256, kernel_size=(3, 3), stride=(2, 2), padding=(1, 1), bias=False)\n",
       "      (bn1): BatchNorm2d(256, eps=1e-05, momentum=0.1, affine=True, track_running_stats=True)\n",
       "      (relu): ReLU(inplace=True)\n",
       "      (conv2): Conv2d(256, 256, kernel_size=(3, 3), stride=(1, 1), padding=(1, 1), bias=False)\n",
       "      (bn2): BatchNorm2d(256, eps=1e-05, momentum=0.1, affine=True, track_running_stats=True)\n",
       "      (downsample): Sequential(\n",
       "        (0): Conv2d(128, 256, kernel_size=(1, 1), stride=(2, 2), bias=False)\n",
       "        (1): BatchNorm2d(256, eps=1e-05, momentum=0.1, affine=True, track_running_stats=True)\n",
       "      )\n",
       "    )\n",
       "    (1): BasicBlock(\n",
       "      (conv1): Conv2d(256, 256, kernel_size=(3, 3), stride=(1, 1), padding=(1, 1), bias=False)\n",
       "      (bn1): BatchNorm2d(256, eps=1e-05, momentum=0.1, affine=True, track_running_stats=True)\n",
       "      (relu): ReLU(inplace=True)\n",
       "      (conv2): Conv2d(256, 256, kernel_size=(3, 3), stride=(1, 1), padding=(1, 1), bias=False)\n",
       "      (bn2): BatchNorm2d(256, eps=1e-05, momentum=0.1, affine=True, track_running_stats=True)\n",
       "    )\n",
       "  )\n",
       "  (layer4): Sequential(\n",
       "    (0): BasicBlock(\n",
       "      (conv1): Conv2d(256, 512, kernel_size=(3, 3), stride=(2, 2), padding=(1, 1), bias=False)\n",
       "      (bn1): BatchNorm2d(512, eps=1e-05, momentum=0.1, affine=True, track_running_stats=True)\n",
       "      (relu): ReLU(inplace=True)\n",
       "      (conv2): Conv2d(512, 512, kernel_size=(3, 3), stride=(1, 1), padding=(1, 1), bias=False)\n",
       "      (bn2): BatchNorm2d(512, eps=1e-05, momentum=0.1, affine=True, track_running_stats=True)\n",
       "      (downsample): Sequential(\n",
       "        (0): Conv2d(256, 512, kernel_size=(1, 1), stride=(2, 2), bias=False)\n",
       "        (1): BatchNorm2d(512, eps=1e-05, momentum=0.1, affine=True, track_running_stats=True)\n",
       "      )\n",
       "    )\n",
       "    (1): BasicBlock(\n",
       "      (conv1): Conv2d(512, 512, kernel_size=(3, 3), stride=(1, 1), padding=(1, 1), bias=False)\n",
       "      (bn1): BatchNorm2d(512, eps=1e-05, momentum=0.1, affine=True, track_running_stats=True)\n",
       "      (relu): ReLU(inplace=True)\n",
       "      (conv2): Conv2d(512, 512, kernel_size=(3, 3), stride=(1, 1), padding=(1, 1), bias=False)\n",
       "      (bn2): BatchNorm2d(512, eps=1e-05, momentum=0.1, affine=True, track_running_stats=True)\n",
       "    )\n",
       "  )\n",
       "  (avgpool): AdaptiveAvgPool2d(output_size=(1, 1))\n",
       "  (fc): Linear(in_features=512, out_features=5, bias=True)\n",
       ")"
      ]
     },
     "execution_count": 9,
     "metadata": {},
     "output_type": "execute_result"
    }
   ],
   "source": [
    "model = models.resnet18(weights='DEFAULT')\n",
    "model.fc = nn.Linear(model.fc.in_features, 5)  # restore architecture\n",
    "model.load_state_dict(torch.load(\"resnet_finetuned.pth\"))\n",
    "model.to(device)"
   ]
  },
  {
   "cell_type": "code",
   "execution_count": 82,
   "id": "462432ea-c120-466b-bacd-661d47ee9efa",
   "metadata": {},
   "outputs": [],
   "source": [
    "model = model.eval() # inference time!\n",
    "all_outputs = []\n",
    "all_labels = []\n",
    "\n",
    "with torch.no_grad():  # very important! disables gradients (faster, no memory waste)\n",
    "    for inputs, labels in balanced_loader:  # usually dataloader returns (input, label) tuples\n",
    "        inputs = inputs.to(device)\n",
    "        labels = labels.to(device)\n",
    "        \n",
    "        outputs = model(inputs)  # forward pass batch through model\n",
    "        all_outputs.append(outputs)  # collect outputs (move to CPU to save GPU memory)\n",
    "        all_labels.append(labels)"
   ]
  },
  {
   "cell_type": "code",
   "execution_count": 85,
   "id": "c51bd800-ce6a-4542-a097-d9c234e15a62",
   "metadata": {},
   "outputs": [],
   "source": [
    "# evaluate performance\n",
    "# true_labels = torch.tensor(image_dataset.targets)\n",
    "all_outputs_cat = torch.cat(all_outputs, dim=0)\n",
    "all_labels_cat = torch.cat(all_labels, dim=0).cpu()\n",
    "predicted = torch.argmax(all_outputs_cat, dim=1).cpu()\n",
    "# comparison = torch.stack((true_labels.to(device), predicted), dim = 1)\n",
    "\n",
    "true = all_labels_cat.cpu()\n",
    "preds = predicted.cpu()\n",
    "probs = nn.functional.softmax(all_outputs_cat, dim=1).cpu().numpy()"
   ]
  },
  {
   "cell_type": "code",
   "execution_count": 86,
   "id": "297c1226-cd6d-4665-b404-6c5dec9e4ba6",
   "metadata": {},
   "outputs": [
    {
     "name": "stdout",
     "output_type": "stream",
     "text": [
      "Accuracy: 0.8853658536585366 | AUROC: 0.9863474122546103\n"
     ]
    }
   ],
   "source": [
    "from sklearn.metrics import roc_auc_score, accuracy_score\n",
    "acc = accuracy_score(true, preds)\n",
    "auroc= roc_auc_score(true, probs, multi_class='ovr')\n",
    "\n",
    "print(f'Accuracy: {acc} | AUROC: {auroc}')"
   ]
  },
  {
   "cell_type": "code",
   "execution_count": 87,
   "id": "f68323d3-fbdd-4834-9246-7d6dd1a586de",
   "metadata": {},
   "outputs": [],
   "source": [
    "prefix = f'may10_T'\n",
    "np.save(f'{prefix}/true.npy', true.numpy())\n",
    "np.save(f'{prefix}/preds.npy', preds.numpy())\n",
    "np.save(f'{prefix}/probs.npy', probs)"
   ]
  },
  {
   "cell_type": "code",
   "execution_count": 75,
   "id": "d906bcea-2938-44c6-93b7-5d5f544ecc37",
   "metadata": {},
   "outputs": [],
   "source": [
    "prefix = f'may10_T'\n",
    "true = np.load(f'{prefix}/true.npy')\n",
    "preds = np.load(f'{prefix}/preds.npy')\n",
    "probs = np.load(f'{prefix}/probs.npy')"
   ]
  },
  {
   "cell_type": "code",
   "execution_count": 88,
   "id": "5527d6e3-8cc7-4a92-bb49-998d84dfd8b3",
   "metadata": {},
   "outputs": [
    {
     "data": {
      "image/png": "[encoded data removed]",
      "text/plain": [
       "<Figure size 600x600 with 2 Axes>"
      ]
     },
     "metadata": {},
     "output_type": "display_data"
    }
   ],
   "source": [
    "from common_functions import plot_cf\n",
    "foo = plot_cf(true, preds, 'ResNet18 Finetuned with Loss Reweighting on Test Set')"
   ]
  },
  {
   "cell_type": "code",
   "execution_count": 89,
   "id": "c81a3eff-428f-4138-ae86-36e9b59f817b",
   "metadata": {},
   "outputs": [],
   "source": [
    "foo.savefig('finetuned_cf_balanced', bbox_inches='tight', dpi=300)"
   ]
  },
  {
   "cell_type": "markdown",
   "id": "aac5b49f-598a-4c9b-bd35-5a1ac32c0398",
   "metadata": {},
   "source": [
    "# finetune on a balanced dataset"
   ]
  },
  {
   "cell_type": "code",
   "execution_count": 80,
   "id": "6d321852-59b8-4998-961b-ba1007b9d7ea",
   "metadata": {},
   "outputs": [],
   "source": [
    "import random\n",
    "from collections import defaultdict\n",
    "from torchvision import datasets, transforms\n",
    "from torch.utils.data import Subset, DataLoader\n",
    "\n",
    "# group indices by class label\n",
    "class_indices = {\n",
    "    '0': np.arange(0, 3750, 1),\n",
    "    '1': np.arange(3750, 4022, 1),\n",
    "    '2': np.arange(4022, 4590, 1),\n",
    "    '3': np.arange(4590, 4672, 1),\n",
    "    '4': np.arange(4672, 4884, 1)\n",
    "}\n",
    "\n",
    "min_class_size = 82\n",
    "\n",
    "# sample equal number of images per class\n",
    "balanced_indices = []\n",
    "for label, idxs in class_indices.items():\n",
    "    sampled = random.sample(sorted(idxs), min_class_size)\n",
    "    balanced_indices.extend(sampled)\n",
    "\n",
    "# Create full dataset\n",
    "full_dataset = datasets.ImageFolder(root=image_dir, transform=transform)\n",
    "\n",
    "# Create Subsets\n",
    "balanced_dataset = Subset(full_dataset, balanced_indices)\n",
    "\n",
    "all_indices = list(range(len(balanced_dataset)))\n",
    "train_idx, test_idx = train_test_split(all_indices, test_size=0.2, random_state=42, shuffle=True)\n",
    "\n",
    "# wrap split data in Subset\n",
    "train_dataset = Subset(balanced_dataset, train_idx)\n",
    "test_dataset = Subset(balanced_dataset, test_idx)\n",
    "\n",
    "# create DataLoaders\n",
    "train_loader = DataLoader(train_dataset, batch_size=32, shuffle=True)\n",
    "test_loader = DataLoader(test_dataset, batch_size=32, shuffle=False)"
   ]
  },
  {
   "cell_type": "code",
   "execution_count": 81,
   "id": "66c73a5b-ecf7-4c37-a62c-9694dfd3c928",
   "metadata": {},
   "outputs": [],
   "source": [
    "balanced_loader = DataLoader(balanced_dataset, batch_size=32, shuffle=False)"
   ]
  },
  {
   "cell_type": "code",
   "execution_count": 37,
   "id": "73147957-a64a-4ad8-8bb5-e056c6a9295b",
   "metadata": {},
   "outputs": [],
   "source": [
    "model = models.resnet18(weights='DEFAULT')\n",
    "\n",
    "# freeze all layers except for the last one\n",
    "# for param in model.parameters():\n",
    "#     param.requires_grad = False\n",
    "\n",
    "# replace the classifier (fc) with a trainable one\n",
    "num_features = model.fc.in_features\n",
    "num_classes = 5  # or whatever your number of output classes is\n",
    "\n",
    "model.fc = nn.Linear(num_features, num_classes)\n",
    "\n",
    "optimizer = torch.optim.Adam(model.fc.parameters(), lr=1e-3)\n",
    "loss_fn = nn.CrossEntropyLoss()"
   ]
  },
  {
   "cell_type": "code",
   "execution_count": 38,
   "id": "ee895232-b68b-433f-8ecf-589193305b7b",
   "metadata": {
    "scrolled": true
   },
   "outputs": [
    {
     "name": "stdout",
     "output_type": "stream",
     "text": [
      "New inputs, labels\n",
      "New inputs, labels\n",
      "New inputs, labels\n",
      "New inputs, labels\n",
      "New inputs, labels\n",
      "New inputs, labels\n",
      "New inputs, labels\n",
      "New inputs, labels\n",
      "New inputs, labels\n",
      "New inputs, labels\n",
      "New inputs, labels\n",
      "Epoch 1/30 - Loss: 1.6952\n",
      "New inputs, labels\n",
      "New inputs, labels\n",
      "New inputs, labels\n",
      "New inputs, labels\n",
      "New inputs, labels\n",
      "New inputs, labels\n",
      "New inputs, labels\n",
      "New inputs, labels\n",
      "New inputs, labels\n",
      "New inputs, labels\n",
      "New inputs, labels\n",
      "Epoch 2/30 - Loss: 1.5122\n",
      "New inputs, labels\n",
      "New inputs, labels\n",
      "New inputs, labels\n",
      "New inputs, labels\n",
      "New inputs, labels\n",
      "New inputs, labels\n",
      "New inputs, labels\n",
      "New inputs, labels\n",
      "New inputs, labels\n",
      "New inputs, labels\n",
      "New inputs, labels\n",
      "Epoch 3/30 - Loss: 1.4326\n",
      "New inputs, labels\n",
      "New inputs, labels\n",
      "New inputs, labels\n",
      "New inputs, labels\n",
      "New inputs, labels\n",
      "New inputs, labels\n",
      "New inputs, labels\n",
      "New inputs, labels\n",
      "New inputs, labels\n",
      "New inputs, labels\n",
      "New inputs, labels\n",
      "Epoch 4/30 - Loss: 1.3405\n",
      "New inputs, labels\n",
      "New inputs, labels\n",
      "New inputs, labels\n",
      "New inputs, labels\n",
      "New inputs, labels\n",
      "New inputs, labels\n",
      "New inputs, labels\n",
      "New inputs, labels\n",
      "New inputs, labels\n",
      "New inputs, labels\n",
      "New inputs, labels\n",
      "Epoch 5/30 - Loss: 1.2817\n",
      "New inputs, labels\n",
      "New inputs, labels\n",
      "New inputs, labels\n",
      "New inputs, labels\n",
      "New inputs, labels\n",
      "New inputs, labels\n",
      "New inputs, labels\n",
      "New inputs, labels\n",
      "New inputs, labels\n",
      "New inputs, labels\n",
      "New inputs, labels\n",
      "Epoch 6/30 - Loss: 1.2370\n",
      "New inputs, labels\n",
      "New inputs, labels\n",
      "New inputs, labels\n",
      "New inputs, labels\n",
      "New inputs, labels\n",
      "New inputs, labels\n",
      "New inputs, labels\n",
      "New inputs, labels\n",
      "New inputs, labels\n",
      "New inputs, labels\n",
      "New inputs, labels\n",
      "Epoch 7/30 - Loss: 1.2047\n",
      "New inputs, labels\n",
      "New inputs, labels\n",
      "New inputs, labels\n",
      "New inputs, labels\n",
      "New inputs, labels\n",
      "New inputs, labels\n",
      "New inputs, labels\n",
      "New inputs, labels\n",
      "New inputs, labels\n",
      "New inputs, labels\n",
      "New inputs, labels\n",
      "Epoch 8/30 - Loss: 1.1388\n",
      "New inputs, labels\n",
      "New inputs, labels\n",
      "New inputs, labels\n",
      "New inputs, labels\n",
      "New inputs, labels\n",
      "New inputs, labels\n",
      "New inputs, labels\n",
      "New inputs, labels\n",
      "New inputs, labels\n",
      "New inputs, labels\n",
      "New inputs, labels\n",
      "Epoch 9/30 - Loss: 1.1381\n",
      "New inputs, labels\n",
      "New inputs, labels\n",
      "New inputs, labels\n",
      "New inputs, labels\n",
      "New inputs, labels\n",
      "New inputs, labels\n",
      "New inputs, labels\n",
      "New inputs, labels\n",
      "New inputs, labels\n",
      "New inputs, labels\n",
      "New inputs, labels\n",
      "Epoch 10/30 - Loss: 1.1018\n",
      "New inputs, labels\n",
      "New inputs, labels\n",
      "New inputs, labels\n",
      "New inputs, labels\n",
      "New inputs, labels\n",
      "New inputs, labels\n",
      "New inputs, labels\n",
      "New inputs, labels\n",
      "New inputs, labels\n",
      "New inputs, labels\n",
      "New inputs, labels\n",
      "Epoch 11/30 - Loss: 1.0722\n",
      "New inputs, labels\n",
      "New inputs, labels\n",
      "New inputs, labels\n",
      "New inputs, labels\n",
      "New inputs, labels\n",
      "New inputs, labels\n",
      "New inputs, labels\n",
      "New inputs, labels\n",
      "New inputs, labels\n",
      "New inputs, labels\n",
      "New inputs, labels\n",
      "Epoch 12/30 - Loss: 1.0332\n",
      "New inputs, labels\n",
      "New inputs, labels\n",
      "New inputs, labels\n",
      "New inputs, labels\n",
      "New inputs, labels\n",
      "New inputs, labels\n",
      "New inputs, labels\n",
      "New inputs, labels\n",
      "New inputs, labels\n",
      "New inputs, labels\n",
      "New inputs, labels\n",
      "Epoch 13/30 - Loss: 1.0298\n",
      "New inputs, labels\n",
      "New inputs, labels\n",
      "New inputs, labels\n",
      "New inputs, labels\n",
      "New inputs, labels\n",
      "New inputs, labels\n",
      "New inputs, labels\n",
      "New inputs, labels\n",
      "New inputs, labels\n",
      "New inputs, labels\n",
      "New inputs, labels\n",
      "Epoch 14/30 - Loss: 1.0077\n",
      "New inputs, labels\n",
      "New inputs, labels\n",
      "New inputs, labels\n",
      "New inputs, labels\n",
      "New inputs, labels\n",
      "New inputs, labels\n",
      "New inputs, labels\n",
      "New inputs, labels\n",
      "New inputs, labels\n",
      "New inputs, labels\n",
      "New inputs, labels\n",
      "Epoch 15/30 - Loss: 0.9808\n",
      "New inputs, labels\n",
      "New inputs, labels\n",
      "New inputs, labels\n",
      "New inputs, labels\n",
      "New inputs, labels\n",
      "New inputs, labels\n",
      "New inputs, labels\n",
      "New inputs, labels\n",
      "New inputs, labels\n",
      "New inputs, labels\n",
      "New inputs, labels\n",
      "Epoch 16/30 - Loss: 0.9357\n",
      "New inputs, labels\n",
      "New inputs, labels\n",
      "New inputs, labels\n",
      "New inputs, labels\n",
      "New inputs, labels\n",
      "New inputs, labels\n",
      "New inputs, labels\n",
      "New inputs, labels\n",
      "New inputs, labels\n",
      "New inputs, labels\n",
      "New inputs, labels\n",
      "Epoch 17/30 - Loss: 0.9286\n",
      "New inputs, labels\n",
      "New inputs, labels\n",
      "New inputs, labels\n",
      "New inputs, labels\n",
      "New inputs, labels\n",
      "New inputs, labels\n",
      "New inputs, labels\n",
      "New inputs, labels\n",
      "New inputs, labels\n",
      "New inputs, labels\n",
      "New inputs, labels\n",
      "Epoch 18/30 - Loss: 0.9376\n",
      "New inputs, labels\n",
      "New inputs, labels\n",
      "New inputs, labels\n",
      "New inputs, labels\n",
      "New inputs, labels\n",
      "New inputs, labels\n",
      "New inputs, labels\n",
      "New inputs, labels\n",
      "New inputs, labels\n",
      "New inputs, labels\n",
      "New inputs, labels\n",
      "Epoch 19/30 - Loss: 0.9255\n",
      "New inputs, labels\n",
      "New inputs, labels\n",
      "New inputs, labels\n",
      "New inputs, labels\n",
      "New inputs, labels\n",
      "New inputs, labels\n",
      "New inputs, labels\n",
      "New inputs, labels\n",
      "New inputs, labels\n",
      "New inputs, labels\n",
      "New inputs, labels\n",
      "Epoch 20/30 - Loss: 0.9051\n",
      "New inputs, labels\n",
      "New inputs, labels\n",
      "New inputs, labels\n",
      "New inputs, labels\n",
      "New inputs, labels\n",
      "New inputs, labels\n",
      "New inputs, labels\n",
      "New inputs, labels\n",
      "New inputs, labels\n",
      "New inputs, labels\n",
      "New inputs, labels\n",
      "Epoch 21/30 - Loss: 0.8471\n",
      "New inputs, labels\n",
      "New inputs, labels\n",
      "New inputs, labels\n",
      "New inputs, labels\n",
      "New inputs, labels\n",
      "New inputs, labels\n",
      "New inputs, labels\n",
      "New inputs, labels\n",
      "New inputs, labels\n",
      "New inputs, labels\n",
      "New inputs, labels\n",
      "Epoch 22/30 - Loss: 0.8607\n",
      "New inputs, labels\n",
      "New inputs, labels\n",
      "New inputs, labels\n",
      "New inputs, labels\n",
      "New inputs, labels\n",
      "New inputs, labels\n",
      "New inputs, labels\n",
      "New inputs, labels\n",
      "New inputs, labels\n",
      "New inputs, labels\n",
      "New inputs, labels\n",
      "Epoch 23/30 - Loss: 0.8337\n",
      "New inputs, labels\n",
      "New inputs, labels\n",
      "New inputs, labels\n",
      "New inputs, labels\n",
      "New inputs, labels\n",
      "New inputs, labels\n",
      "New inputs, labels\n",
      "New inputs, labels\n",
      "New inputs, labels\n",
      "New inputs, labels\n",
      "New inputs, labels\n",
      "Epoch 24/30 - Loss: 0.8146\n",
      "New inputs, labels\n",
      "New inputs, labels\n",
      "New inputs, labels\n",
      "New inputs, labels\n",
      "New inputs, labels\n",
      "New inputs, labels\n",
      "New inputs, labels\n",
      "New inputs, labels\n",
      "New inputs, labels\n",
      "New inputs, labels\n",
      "New inputs, labels\n",
      "Epoch 25/30 - Loss: 0.8370\n",
      "New inputs, labels\n",
      "New inputs, labels\n",
      "New inputs, labels\n",
      "New inputs, labels\n",
      "New inputs, labels\n",
      "New inputs, labels\n",
      "New inputs, labels\n",
      "New inputs, labels\n",
      "New inputs, labels\n",
      "New inputs, labels\n",
      "New inputs, labels\n",
      "Epoch 26/30 - Loss: 0.8230\n",
      "New inputs, labels\n",
      "New inputs, labels\n",
      "New inputs, labels\n",
      "New inputs, labels\n",
      "New inputs, labels\n",
      "New inputs, labels\n",
      "New inputs, labels\n",
      "New inputs, labels\n",
      "New inputs, labels\n",
      "New inputs, labels\n",
      "New inputs, labels\n",
      "Epoch 27/30 - Loss: 0.7976\n",
      "New inputs, labels\n",
      "New inputs, labels\n",
      "New inputs, labels\n",
      "New inputs, labels\n",
      "New inputs, labels\n",
      "New inputs, labels\n",
      "New inputs, labels\n",
      "New inputs, labels\n",
      "New inputs, labels\n",
      "New inputs, labels\n",
      "New inputs, labels\n",
      "Epoch 28/30 - Loss: 0.8256\n",
      "New inputs, labels\n",
      "New inputs, labels\n",
      "New inputs, labels\n",
      "New inputs, labels\n",
      "New inputs, labels\n",
      "New inputs, labels\n",
      "New inputs, labels\n",
      "New inputs, labels\n",
      "New inputs, labels\n",
      "New inputs, labels\n",
      "New inputs, labels\n",
      "Epoch 29/30 - Loss: 0.8031\n",
      "New inputs, labels\n",
      "New inputs, labels\n",
      "New inputs, labels\n",
      "New inputs, labels\n",
      "New inputs, labels\n",
      "New inputs, labels\n",
      "New inputs, labels\n",
      "New inputs, labels\n",
      "New inputs, labels\n",
      "New inputs, labels\n",
      "New inputs, labels\n",
      "Epoch 30/30 - Loss: 0.7686\n"
     ]
    }
   ],
   "source": [
    "# training loop\n",
    "num_epochs = 30\n",
    "model.to(device)\n",
    "model.train()\n",
    "\n",
    "for epoch in range(num_epochs):\n",
    "    running_loss = 0\n",
    "    \n",
    "    for inputs, labels in train_loader:\n",
    "        print(f'New inputs, labels')\n",
    "        inputs = inputs.to(device) # send to gpu\n",
    "        labels = labels.to(device)\n",
    "\n",
    "        optimizer.zero_grad() # clear previous gradients\n",
    "        \n",
    "        outputs = model(inputs)\n",
    "        loss = loss_fn(outputs, labels)\n",
    "\n",
    "        loss.backward()\n",
    "        optimizer.step()\n",
    "\n",
    "        running_loss += loss.item() * inputs.size(0) # update loss by the entire dataset size\n",
    "        \n",
    "    epoch_loss = running_loss / len(train_loader.dataset)\n",
    "    print(f\"Epoch {epoch+1}/{num_epochs} - Loss: {epoch_loss:.4f}\")"
   ]
  },
  {
   "cell_type": "code",
   "execution_count": 40,
   "id": "4c2ac301-0ba7-4ac1-a213-ecf6d18edf49",
   "metadata": {},
   "outputs": [],
   "source": [
    "model = model.eval() # inference time!\n",
    "all_outputs = []\n",
    "all_labels = []\n",
    "\n",
    "with torch.no_grad():  # very important! disables gradients (faster, no memory waste)\n",
    "    for inputs, labels in test_loader:  # usually dataloader returns (input, label) tuples\n",
    "        inputs = inputs.to(device)\n",
    "        labels = labels.to(device)\n",
    "        \n",
    "        outputs = model(inputs)  # forward pass batch through model\n",
    "        all_outputs.append(outputs)  # collect outputs (move to CPU to save GPU memory)\n",
    "        all_labels.append(labels)\n",
    "\n",
    "# evaluate performance\n",
    "# true_labels = torch.tensor(image_dataset.targets)\n",
    "all_outputs_cat = torch.cat(all_outputs, dim=0)\n",
    "all_labels_cat = torch.cat(all_labels, dim=0).cpu()\n",
    "predicted = torch.argmax(all_outputs_cat, dim=1).cpu()\n",
    "# comparison = torch.stack((true_labels.to(device), predicted), dim = 1)\n",
    "\n",
    "true = all_labels_cat.cpu()\n",
    "preds = predicted.cpu()\n",
    "probs = nn.functional.softmax(all_outputs_cat, dim=1).cpu().numpy()"
   ]
  },
  {
   "cell_type": "code",
   "execution_count": 41,
   "id": "a2de9a16-1f96-4d6c-a3fa-b55b28b3c197",
   "metadata": {},
   "outputs": [
    {
     "name": "stdout",
     "output_type": "stream",
     "text": [
      "Accuracy: 0.4146341463414634 | AUROC: 0.7504789504157835\n"
     ]
    }
   ],
   "source": [
    "from sklearn.metrics import roc_auc_score, accuracy_score\n",
    "acc = accuracy_score(true, preds)\n",
    "auroc= roc_auc_score(true, probs, multi_class='ovr')\n",
    "\n",
    "print(f'Accuracy: {acc} | AUROC: {auroc}')"
   ]
  },
  {
   "cell_type": "code",
   "execution_count": 42,
   "id": "6e049002-ce78-41a0-9e8e-c4eaecf42d8c",
   "metadata": {},
   "outputs": [
    {
     "data": {
      "image/png": "[encoded data removed]",
      "text/plain": [
       "<Figure size 600x600 with 2 Axes>"
      ]
     },
     "metadata": {},
     "output_type": "display_data"
    }
   ],
   "source": [
    "from common_functions import plot_cf\n",
    "foo = plot_cf(preds, true, 'ResNet18 Finetuned')"
   ]
  },
  {
   "cell_type": "code",
   "execution_count": null,
   "id": "c73f94f3-cf4f-4647-ae76-3576c9915eee",
   "metadata": {},
   "outputs": [],
   "source": []
  }
 ],
 "metadata": {
  "kernelspec": {
   "display_name": "Python [conda env:cv-env]",
   "language": "python",
   "name": "conda-env-cv-env-py"
  },
  "language_info": {
   "codemirror_mode": {
    "name": "ipython",
    "version": 3
   },
   "file_extension": ".py",
   "mimetype": "text/x-python",
   "name": "python",
   "nbconvert_exporter": "python",
   "pygments_lexer": "ipython3",
   "version": "3.11.9"
  }
 },
 "nbformat": 4,
 "nbformat_minor": 5
}
