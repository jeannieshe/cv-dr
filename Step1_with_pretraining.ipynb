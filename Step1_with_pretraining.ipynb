{
  "nbformat": 4,
  "nbformat_minor": 0,
  "metadata": {
    "colab": {
      "provenance": []
    },
    "kernelspec": {
      "name": "python3",
      "display_name": "Python 3"
    },
    "language_info": {
      "name": "python"
    }
  },
  "cells": [
    {
      "cell_type": "code",
      "source": [
        "import pandas as pd\n",
        "import numpy as np\n",
        "from PIL import Image"
      ],
      "metadata": {
        "id": "onkJ3xzlN6YL"
      },
      "execution_count": null,
      "outputs": []
    },
    {
      "cell_type": "code",
      "source": [
        "import torch\n",
        "from torchvision import models, datasets, transforms\n",
        "from torch.utils.data import DataLoader"
      ],
      "metadata": {
        "id": "eXtgm8DlQrtu"
      },
      "execution_count": null,
      "outputs": []
    },
    {
      "cell_type": "code",
      "execution_count": null,
      "metadata": {
        "colab": {
          "base_uri": "https://localhost:8080/"
        },
        "id": "H-NvzBr1LrFg",
        "outputId": "3f8a2e0a-4765-493f-fa6c-75b7223be88a"
      },
      "outputs": [
        {
          "output_type": "stream",
          "name": "stdout",
          "text": [
            "Drive already mounted at /content/drive; to attempt to forcibly remount, call drive.mount(\"/content/drive\", force_remount=True).\n"
          ]
        }
      ],
      "source": [
        "# import the data\n",
        "from google.colab import drive\n",
        "drive.mount('/content/drive')\n",
        "\n",
        "import os\n",
        "image_dir = '/content/drive/MyDrive/6.S058 DR Diagnosis/images' # Replace with your directory path\n",
        "# image_files = os.listdir(image_dir)"
      ]
    },
    {
      "cell_type": "code",
      "source": [
        "# Preprocess the data to be the same as the ImageNet ones\n",
        "transform = transforms.Compose([\n",
        "    transforms.Resize((224, 224)),   # Resize directly because images are square\n",
        "    transforms.ToTensor(),\n",
        "    transforms.Normalize(\n",
        "        mean=[0.485, 0.456, 0.406],  # ImageNet mean\n",
        "        std=[0.229, 0.224, 0.225]    # ImageNet std\n",
        "    )\n",
        "])"
      ],
      "metadata": {
        "id": "oRYqgSGqVoXw"
      },
      "execution_count": null,
      "outputs": []
    },
    {
      "cell_type": "code",
      "source": [
        "# Load the dataset using ImageFolder\n",
        "image_dataset = datasets.ImageFolder(root=image_dir, transform=transform)\n",
        "\n",
        "# Create a data loader to iterate through the dataset in batches\n",
        "data_loader = DataLoader(image_dataset, batch_size=32, shuffle=True)\n",
        "\n",
        "# The labels are automatically assigned based on the folder names\n",
        "print(image_dataset.class_to_idx)\n",
        "\n",
        "# Iterate through the data loader\n",
        "for images, labels in data_loader:\n",
        "    # Process the images and labels\n",
        "    print(images.shape, labels.shape)\n",
        "    break"
      ],
      "metadata": {
        "colab": {
          "base_uri": "https://localhost:8080/"
        },
        "id": "H_6WkX4hj24Z",
        "outputId": "b50a5677-de3e-4ca6-d50f-92e56d7f21f5"
      },
      "execution_count": null,
      "outputs": [
        {
          "output_type": "stream",
          "name": "stdout",
          "text": [
            "{'class_0': 0, 'class_1': 1, 'class_2': 2, 'class_3': 3, 'class_4': 4, 'class_nan': 5}\n",
            "torch.Size([32, 3, 224, 224]) torch.Size([32])\n"
          ]
        }
      ]
    },
    {
      "cell_type": "code",
      "source": [
        "# Load pre-trained model\n",
        "device = 'cuda' if torch.cuda.is_available() else 'cpu'\n",
        "model = models.resnet18(pretrained=True)\n",
        "model = model.eval().to(device)"
      ],
      "metadata": {
        "colab": {
          "base_uri": "https://localhost:8080/"
        },
        "id": "6wXnYT1Qap8B",
        "outputId": "89ef2150-84f6-485d-d9a5-e80357452d30"
      },
      "execution_count": null,
      "outputs": [
        {
          "output_type": "stream",
          "name": "stderr",
          "text": [
            "/usr/local/lib/python3.11/dist-packages/torchvision/models/_utils.py:208: UserWarning: The parameter 'pretrained' is deprecated since 0.13 and may be removed in the future, please use 'weights' instead.\n",
            "  warnings.warn(\n",
            "/usr/local/lib/python3.11/dist-packages/torchvision/models/_utils.py:223: UserWarning: Arguments other than a weight enum or `None` for 'weights' are deprecated since 0.13 and may be removed in the future. The current behavior is equivalent to passing `weights=ResNet18_Weights.IMAGENET1K_V1`. You can also use `weights=ResNet18_Weights.DEFAULT` to get the most up-to-date weights.\n",
            "  warnings.warn(msg)\n",
            "Downloading: \"https://download.pytorch.org/models/resnet18-f37072fd.pth\" to /root/.cache/torch/hub/checkpoints/resnet18-f37072fd.pth\n",
            "100%|██████████| 44.7M/44.7M [00:00<00:00, 186MB/s]\n"
          ]
        }
      ]
    },
    {
      "cell_type": "code",
      "source": [
        "# Run ResNet18 on the data without any further training\n",
        "\n",
        "# Inference mode\n",
        "all_outputs = []\n",
        "\n",
        "with torch.no_grad():  # very important! disables gradients (faster, no memory waste)\n",
        "    for inputs, _ in data_loader:  # usually dataloader returns (input, label) tuples\n",
        "        inputs = inputs.to(device)\n",
        "        outputs = model(inputs)  # forward pass batch through model\n",
        "        all_outputs.append(outputs.cpu())  # collect outputs (move to CPU to save GPU memory)\n",
        "\n",
        "# (optional) concatenate all outputs\n",
        "all_outputs = torch.cat(all_outputs, dim=0)"
      ],
      "metadata": {
        "id": "PkwNBUD3ut2_"
      },
      "execution_count": null,
      "outputs": []
    },
    {
      "cell_type": "code",
      "source": [
        "# get labels\n",
        "true_labels = torch.tensor(image_dataset.targets)\n",
        "\n",
        "# get the highest confidence class\n",
        "predicted_labels = all_outputs.argmax(dim=1)\n",
        "correct = (predicted_labels == true_labels).sum().item()\n",
        "total = true_labels.size(0)\n",
        "accuracy = correct / total\n",
        "\n",
        "print(f\"Accuracy: {accuracy:.4f}\")"
      ],
      "metadata": {
        "id": "KWaQWKGY34JV"
      },
      "execution_count": null,
      "outputs": []
    }
  ]
}